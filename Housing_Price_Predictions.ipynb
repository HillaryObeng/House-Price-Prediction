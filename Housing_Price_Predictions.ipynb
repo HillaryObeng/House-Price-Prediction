{
 "cells": [
  {
   "cell_type": "markdown",
   "id": "03a9f72d",
   "metadata": {
    "ExecuteTime": {
     "end_time": "2022-05-11T15:14:05.161770Z",
     "start_time": "2022-05-11T15:14:05.148769Z"
    }
   },
   "source": [
    "This notebook is my first End-to-End Machine Learning project. The journey to self learning has been one worth the intellectual relationship.\n",
    "On this journey, i discovered a mind of cyclical confusion and in most isntances a pause at the realization on one going in a cycle for a reason unknown but rathe sadly to find a reason ti why pprint should work and print wouldn't.\n",
    "Hope was was kept me moving, motivation from my immediate boss, played a role i describe in less terms for unavailabilty of a better one as significantly awesome and terrific.\n"
   ]
  },
  {
   "cell_type": "markdown",
   "id": "f383025f",
   "metadata": {
    "ExecuteTime": {
     "end_time": "2022-05-11T15:15:10.287026Z",
     "start_time": "2022-05-11T15:15:10.281025Z"
    }
   },
   "source": [
    "Dataset used: Carlifornia Housing Dataset\n",
    "Credit: Hand on Machine learning volume two\n",
    "Resources usage credit: Arch Services"
   ]
  },
  {
   "cell_type": "markdown",
   "id": "e10008d5",
   "metadata": {},
   "source": [
    "Project Objective: To predict the housing price"
   ]
  },
  {
   "cell_type": "markdown",
   "id": "24b4a82d",
   "metadata": {},
   "source": [
    "Tools used: Numpy sckit learn\n",
    "    matplotlib\n",
    "    pandas\n",
    "    seaborn\n",
    "    "
   ]
  },
  {
   "cell_type": "markdown",
   "id": "c6ceb4b7",
   "metadata": {},
   "source": [
    "In this project we’ll use the California Housing Prices dataset from the StatLib repository2. This dataset is based on data from the 1990 California census(url).\n",
    "It is not exactly recent (a nice house in the Bay Area was still affordable at the time),\n",
    "but it has many qualities for learning, so we will pretend it is recent data. For learning\n",
    "purposes a categorical attribute is added while few features in the original dataset are removed."
   ]
  },
  {
   "cell_type": "markdown",
   "id": "aeca749a",
   "metadata": {},
   "source": [
    "**Task 1**         \n",
    "* Use California census data to **build a model of housing prices** in the state.    \n",
    "* This data includes metrics such as the population, median income, and median housing price for each\n",
    "block group in California.           \n",
    "* Block groups are the smallest geographical unit for which the US Census Bureau publishes sample data (a block group typically has a population of 600 to 3,000 people). We will call them “districts” for short.    \n",
    "\n",
    "**The model should learn from this data and be able to predict the median housing price in any district, given all the other metrics**"
   ]
  },
  {
   "cell_type": "code",
   "execution_count": 1,
   "id": "61f47a42",
   "metadata": {
    "ExecuteTime": {
     "end_time": "2022-05-12T16:09:51.074228Z",
     "start_time": "2022-05-12T16:09:51.060227Z"
    }
   },
   "outputs": [],
   "source": [
    "# Import the neccessary dependencies\n",
    "# To download the dataset and access the path\n",
    "import os\n",
    "import turtle\n",
    "import urllib\n",
    "\n",
    "# Working with the dataframe and plots\n",
    "import numpy as np\n",
    "import pandas as pd\n",
    "import matplotlib.pyplot as plt\n",
    "import seaborn as sns\n",
    "\n",
    "# Scikit learn\n",
    "from sklearn.model_selection import train_test_split, StratifiedShuffleSplit\n",
    "from sklearn.preprocessing import  MinMaxScaler, StandardScaler\n",
    "\n",
    "# Transformer\n",
    "from sklearn.compose import ColumnTransformer\n",
    "\n",
    "# Sci-kit learn pipelines\n",
    "from sklearn.pipeline import Pipeline\n",
    "\n",
    "# Warnings\n",
    "from warnings import filterwarnings\n",
    "filterwarnings('ignore')\n",
    "\n",
    "# Target(label) transformer\n",
    "from sklearn.compose import TransformedTargetRegressor\n",
    "\n",
    "# Setting print options\n",
    "# pd.set_option('precision',4)\n",
    "# To plot pretty figures directly within Jupyter\n",
    "%matplotlib inline\n",
    "import matplotlib as mpl\n",
    "import matplotlib.pyplot as plt\n",
    "mpl.rc('axes', labelsize=14)\n",
    "mpl.rc('xtick', labelsize=12)\n",
    "mpl.rc('ytick', labelsize=12)\n"
   ]
  },
  {
   "cell_type": "code",
   "execution_count": 2,
   "id": "88c7f1cf",
   "metadata": {
    "ExecuteTime": {
     "end_time": "2022-05-12T16:09:51.090223Z",
     "start_time": "2022-05-12T16:09:51.076251Z"
    }
   },
   "outputs": [],
   "source": [
    "# Set a path to the resource dataset\n",
    "HOUSING_PATH = r'C:\\Users\\mlsrv\\Documents\\Personal Development\\MachineLearningMastery\\Holiday Flavor\\Servr training\\Hands_on_ml'"
   ]
  },
  {
   "cell_type": "code",
   "execution_count": 3,
   "id": "3454595a",
   "metadata": {
    "ExecuteTime": {
     "end_time": "2022-05-12T16:09:51.106232Z",
     "start_time": "2022-05-12T16:09:51.092224Z"
    }
   },
   "outputs": [],
   "source": [
    "# A function to load the dataset\n",
    "def load_housing_data(housing_path=HOUSING_PATH):\n",
    "    csv_path = os.path.join(housing_path, \"housing.csv\")\n",
    "    return pd.read_csv(csv_path)"
   ]
  },
  {
   "cell_type": "code",
   "execution_count": 4,
   "id": "817ea3df",
   "metadata": {
    "ExecuteTime": {
     "end_time": "2022-05-12T16:09:51.154264Z",
     "start_time": "2022-05-12T16:09:51.108223Z"
    }
   },
   "outputs": [],
   "source": [
    "# Renaming the dataset\n",
    "housing = load_housing_data()"
   ]
  },
  {
   "cell_type": "code",
   "execution_count": 5,
   "id": "97cc4be2",
   "metadata": {
    "ExecuteTime": {
     "end_time": "2022-05-12T16:09:51.186228Z",
     "start_time": "2022-05-12T16:09:51.156261Z"
    }
   },
   "outputs": [
    {
     "data": {
      "text/html": [
       "<div>\n",
       "<style scoped>\n",
       "    .dataframe tbody tr th:only-of-type {\n",
       "        vertical-align: middle;\n",
       "    }\n",
       "\n",
       "    .dataframe tbody tr th {\n",
       "        vertical-align: top;\n",
       "    }\n",
       "\n",
       "    .dataframe thead th {\n",
       "        text-align: right;\n",
       "    }\n",
       "</style>\n",
       "<table border=\"1\" class=\"dataframe\">\n",
       "  <thead>\n",
       "    <tr style=\"text-align: right;\">\n",
       "      <th></th>\n",
       "      <th>longitude</th>\n",
       "      <th>latitude</th>\n",
       "      <th>housing_median_age</th>\n",
       "      <th>total_rooms</th>\n",
       "      <th>total_bedrooms</th>\n",
       "      <th>population</th>\n",
       "      <th>households</th>\n",
       "      <th>median_income</th>\n",
       "      <th>median_house_value</th>\n",
       "      <th>ocean_proximity</th>\n",
       "    </tr>\n",
       "  </thead>\n",
       "  <tbody>\n",
       "    <tr>\n",
       "      <th>0</th>\n",
       "      <td>-122.23</td>\n",
       "      <td>37.88</td>\n",
       "      <td>41.0</td>\n",
       "      <td>880.0</td>\n",
       "      <td>129.0</td>\n",
       "      <td>322.0</td>\n",
       "      <td>126.0</td>\n",
       "      <td>8.3252</td>\n",
       "      <td>452600.0</td>\n",
       "      <td>NEAR BAY</td>\n",
       "    </tr>\n",
       "    <tr>\n",
       "      <th>1</th>\n",
       "      <td>-122.22</td>\n",
       "      <td>37.86</td>\n",
       "      <td>21.0</td>\n",
       "      <td>7099.0</td>\n",
       "      <td>1106.0</td>\n",
       "      <td>2401.0</td>\n",
       "      <td>1138.0</td>\n",
       "      <td>8.3014</td>\n",
       "      <td>358500.0</td>\n",
       "      <td>NEAR BAY</td>\n",
       "    </tr>\n",
       "    <tr>\n",
       "      <th>2</th>\n",
       "      <td>-122.24</td>\n",
       "      <td>37.85</td>\n",
       "      <td>52.0</td>\n",
       "      <td>1467.0</td>\n",
       "      <td>190.0</td>\n",
       "      <td>496.0</td>\n",
       "      <td>177.0</td>\n",
       "      <td>7.2574</td>\n",
       "      <td>352100.0</td>\n",
       "      <td>NEAR BAY</td>\n",
       "    </tr>\n",
       "    <tr>\n",
       "      <th>3</th>\n",
       "      <td>-122.25</td>\n",
       "      <td>37.85</td>\n",
       "      <td>52.0</td>\n",
       "      <td>1274.0</td>\n",
       "      <td>235.0</td>\n",
       "      <td>558.0</td>\n",
       "      <td>219.0</td>\n",
       "      <td>5.6431</td>\n",
       "      <td>341300.0</td>\n",
       "      <td>NEAR BAY</td>\n",
       "    </tr>\n",
       "    <tr>\n",
       "      <th>4</th>\n",
       "      <td>-122.25</td>\n",
       "      <td>37.85</td>\n",
       "      <td>52.0</td>\n",
       "      <td>1627.0</td>\n",
       "      <td>280.0</td>\n",
       "      <td>565.0</td>\n",
       "      <td>259.0</td>\n",
       "      <td>3.8462</td>\n",
       "      <td>342200.0</td>\n",
       "      <td>NEAR BAY</td>\n",
       "    </tr>\n",
       "  </tbody>\n",
       "</table>\n",
       "</div>"
      ],
      "text/plain": [
       "   longitude  latitude  housing_median_age  total_rooms  total_bedrooms  \\\n",
       "0    -122.23     37.88                41.0        880.0           129.0   \n",
       "1    -122.22     37.86                21.0       7099.0          1106.0   \n",
       "2    -122.24     37.85                52.0       1467.0           190.0   \n",
       "3    -122.25     37.85                52.0       1274.0           235.0   \n",
       "4    -122.25     37.85                52.0       1627.0           280.0   \n",
       "\n",
       "   population  households  median_income  median_house_value ocean_proximity  \n",
       "0       322.0       126.0         8.3252            452600.0        NEAR BAY  \n",
       "1      2401.0      1138.0         8.3014            358500.0        NEAR BAY  \n",
       "2       496.0       177.0         7.2574            352100.0        NEAR BAY  \n",
       "3       558.0       219.0         5.6431            341300.0        NEAR BAY  \n",
       "4       565.0       259.0         3.8462            342200.0        NEAR BAY  "
      ]
     },
     "execution_count": 5,
     "metadata": {},
     "output_type": "execute_result"
    }
   ],
   "source": [
    "# View of top 5 rows in the dataset\n",
    "housing.head()"
   ]
  },
  {
   "cell_type": "markdown",
   "id": "bb720b7b",
   "metadata": {},
   "source": [
    "**Comments**       \n",
    "* Each row in the dataset represents a district in the country.              \n",
    "* There are a total of 13 attributes/features."
   ]
  },
  {
   "cell_type": "code",
   "execution_count": 6,
   "id": "575f37f1",
   "metadata": {
    "ExecuteTime": {
     "end_time": "2022-05-12T16:09:51.218265Z",
     "start_time": "2022-05-12T16:09:51.188225Z"
    }
   },
   "outputs": [
    {
     "data": {
      "text/html": [
       "<div>\n",
       "<style scoped>\n",
       "    .dataframe tbody tr th:only-of-type {\n",
       "        vertical-align: middle;\n",
       "    }\n",
       "\n",
       "    .dataframe tbody tr th {\n",
       "        vertical-align: top;\n",
       "    }\n",
       "\n",
       "    .dataframe thead th {\n",
       "        text-align: right;\n",
       "    }\n",
       "</style>\n",
       "<table border=\"1\" class=\"dataframe\">\n",
       "  <thead>\n",
       "    <tr style=\"text-align: right;\">\n",
       "      <th></th>\n",
       "      <th>longitude</th>\n",
       "      <th>latitude</th>\n",
       "      <th>housing_median_age</th>\n",
       "      <th>total_rooms</th>\n",
       "      <th>total_bedrooms</th>\n",
       "      <th>population</th>\n",
       "      <th>households</th>\n",
       "      <th>median_income</th>\n",
       "      <th>median_house_value</th>\n",
       "      <th>ocean_proximity</th>\n",
       "    </tr>\n",
       "  </thead>\n",
       "  <tbody>\n",
       "    <tr>\n",
       "      <th>20635</th>\n",
       "      <td>-121.09</td>\n",
       "      <td>39.48</td>\n",
       "      <td>25.0</td>\n",
       "      <td>1665.0</td>\n",
       "      <td>374.0</td>\n",
       "      <td>845.0</td>\n",
       "      <td>330.0</td>\n",
       "      <td>1.5603</td>\n",
       "      <td>78100.0</td>\n",
       "      <td>INLAND</td>\n",
       "    </tr>\n",
       "    <tr>\n",
       "      <th>20636</th>\n",
       "      <td>-121.21</td>\n",
       "      <td>39.49</td>\n",
       "      <td>18.0</td>\n",
       "      <td>697.0</td>\n",
       "      <td>150.0</td>\n",
       "      <td>356.0</td>\n",
       "      <td>114.0</td>\n",
       "      <td>2.5568</td>\n",
       "      <td>77100.0</td>\n",
       "      <td>INLAND</td>\n",
       "    </tr>\n",
       "    <tr>\n",
       "      <th>20637</th>\n",
       "      <td>-121.22</td>\n",
       "      <td>39.43</td>\n",
       "      <td>17.0</td>\n",
       "      <td>2254.0</td>\n",
       "      <td>485.0</td>\n",
       "      <td>1007.0</td>\n",
       "      <td>433.0</td>\n",
       "      <td>1.7000</td>\n",
       "      <td>92300.0</td>\n",
       "      <td>INLAND</td>\n",
       "    </tr>\n",
       "    <tr>\n",
       "      <th>20638</th>\n",
       "      <td>-121.32</td>\n",
       "      <td>39.43</td>\n",
       "      <td>18.0</td>\n",
       "      <td>1860.0</td>\n",
       "      <td>409.0</td>\n",
       "      <td>741.0</td>\n",
       "      <td>349.0</td>\n",
       "      <td>1.8672</td>\n",
       "      <td>84700.0</td>\n",
       "      <td>INLAND</td>\n",
       "    </tr>\n",
       "    <tr>\n",
       "      <th>20639</th>\n",
       "      <td>-121.24</td>\n",
       "      <td>39.37</td>\n",
       "      <td>16.0</td>\n",
       "      <td>2785.0</td>\n",
       "      <td>616.0</td>\n",
       "      <td>1387.0</td>\n",
       "      <td>530.0</td>\n",
       "      <td>2.3886</td>\n",
       "      <td>89400.0</td>\n",
       "      <td>INLAND</td>\n",
       "    </tr>\n",
       "  </tbody>\n",
       "</table>\n",
       "</div>"
      ],
      "text/plain": [
       "       longitude  latitude  housing_median_age  total_rooms  total_bedrooms  \\\n",
       "20635    -121.09     39.48                25.0       1665.0           374.0   \n",
       "20636    -121.21     39.49                18.0        697.0           150.0   \n",
       "20637    -121.22     39.43                17.0       2254.0           485.0   \n",
       "20638    -121.32     39.43                18.0       1860.0           409.0   \n",
       "20639    -121.24     39.37                16.0       2785.0           616.0   \n",
       "\n",
       "       population  households  median_income  median_house_value  \\\n",
       "20635       845.0       330.0         1.5603             78100.0   \n",
       "20636       356.0       114.0         2.5568             77100.0   \n",
       "20637      1007.0       433.0         1.7000             92300.0   \n",
       "20638       741.0       349.0         1.8672             84700.0   \n",
       "20639      1387.0       530.0         2.3886             89400.0   \n",
       "\n",
       "      ocean_proximity  \n",
       "20635          INLAND  \n",
       "20636          INLAND  \n",
       "20637          INLAND  \n",
       "20638          INLAND  \n",
       "20639          INLAND  "
      ]
     },
     "execution_count": 6,
     "metadata": {},
     "output_type": "execute_result"
    }
   ],
   "source": [
    "# view the bottom 5 records\n",
    "housing.tail()"
   ]
  },
  {
   "cell_type": "code",
   "execution_count": 7,
   "id": "d43752ae",
   "metadata": {
    "ExecuteTime": {
     "end_time": "2022-05-12T16:09:51.234267Z",
     "start_time": "2022-05-12T16:09:51.220226Z"
    }
   },
   "outputs": [
    {
     "name": "stdout",
     "output_type": "stream",
     "text": [
      "There are a total of 10 attributes and 20640 records\n"
     ]
    }
   ],
   "source": [
    "# Check the total number of columns in the dataset\n",
    "print(f'There are a total of {housing.shape[1]} attributes and {housing.shape[0]} records')"
   ]
  },
  {
   "cell_type": "code",
   "execution_count": 8,
   "id": "4f6c769f",
   "metadata": {
    "ExecuteTime": {
     "end_time": "2022-05-12T16:09:51.250224Z",
     "start_time": "2022-05-12T16:09:51.236236Z"
    }
   },
   "outputs": [
    {
     "name": "stdout",
     "output_type": "stream",
     "text": [
      "<class 'pandas.core.frame.DataFrame'>\n",
      "RangeIndex: 20640 entries, 0 to 20639\n",
      "Data columns (total 10 columns):\n",
      " #   Column              Non-Null Count  Dtype  \n",
      "---  ------              --------------  -----  \n",
      " 0   longitude           20640 non-null  float64\n",
      " 1   latitude            20640 non-null  float64\n",
      " 2   housing_median_age  20640 non-null  float64\n",
      " 3   total_rooms         20640 non-null  float64\n",
      " 4   total_bedrooms      20433 non-null  float64\n",
      " 5   population          20640 non-null  float64\n",
      " 6   households          20640 non-null  float64\n",
      " 7   median_income       20640 non-null  float64\n",
      " 8   median_house_value  20640 non-null  float64\n",
      " 9   ocean_proximity     20640 non-null  object \n",
      "dtypes: float64(9), object(1)\n",
      "memory usage: 1.6+ MB\n"
     ]
    }
   ],
   "source": [
    "# A quick descriptive statistics on the dataset\n",
    "housing.info();"
   ]
  },
  {
   "cell_type": "markdown",
   "id": "10716514",
   "metadata": {},
   "source": [
    "There are a total of 20,640 instances except for total_bedrooms with 20,433 instances"
   ]
  },
  {
   "cell_type": "code",
   "execution_count": 9,
   "id": "aa6cf02d",
   "metadata": {
    "ExecuteTime": {
     "end_time": "2022-05-12T16:09:51.266228Z",
     "start_time": "2022-05-12T16:09:51.253259Z"
    }
   },
   "outputs": [
    {
     "data": {
      "text/plain": [
       "longitude               0\n",
       "latitude                0\n",
       "housing_median_age      0\n",
       "total_rooms             0\n",
       "total_bedrooms        207\n",
       "population              0\n",
       "households              0\n",
       "median_income           0\n",
       "median_house_value      0\n",
       "ocean_proximity         0\n",
       "dtype: int64"
      ]
     },
     "execution_count": 9,
     "metadata": {},
     "output_type": "execute_result"
    }
   ],
   "source": [
    "# Find the number of missing values and the attributes that holds them\n",
    "housing.isnull().sum()"
   ]
  },
  {
   "cell_type": "code",
   "execution_count": 10,
   "id": "8a10d028",
   "metadata": {
    "ExecuteTime": {
     "end_time": "2022-05-12T16:09:51.282227Z",
     "start_time": "2022-05-12T16:09:51.268255Z"
    }
   },
   "outputs": [],
   "source": [
    "# Calculating the percentage of missing values.\n",
    "# Function to calculate missing values by column\n",
    "def missing_values_table(df):\n",
    "        # Total missing values\n",
    "        mis_val = df.isnull().sum()\n",
    "        \n",
    "        # Percentage of missing values\n",
    "        mis_val_percent = 100 * df.isnull().sum() / len(df)\n",
    "        \n",
    "        # Make a table with the results\n",
    "        mis_val_table = pd.concat([mis_val, mis_val_percent], axis=1)\n",
    "        \n",
    "        # Rename the columns\n",
    "        mis_val_table_ren_columns = mis_val_table.rename(\n",
    "        columns = {0 : 'Missing Values', 1 : '% of Total Values'})\n",
    "        \n",
    "        # Sort the table by percentage of missing in a descending order\n",
    "        mis_val_table_ren_columns = mis_val_table_ren_columns[\n",
    "            mis_val_table_ren_columns.iloc[:,1] != 0].sort_values(\n",
    "        '% of Total Values', ascending=False).round(1)\n",
    "        \n",
    "        # Print some summary information\n",
    "        print (\"Your selected dataframe has \" + str(df.shape[1]) + \" columns.\\n\"      \n",
    "            \"There are \" + str(mis_val_table_ren_columns.shape[0]) +\n",
    "              \" columns that have missing values.\")\n",
    "        \n",
    "        # Return the dataframe with missing information\n",
    "        return mis_val_table_ren_columns"
   ]
  },
  {
   "cell_type": "code",
   "execution_count": 11,
   "id": "601d2c4d",
   "metadata": {
    "ExecuteTime": {
     "end_time": "2022-05-12T16:09:51.313225Z",
     "start_time": "2022-05-12T16:09:51.285225Z"
    }
   },
   "outputs": [
    {
     "name": "stdout",
     "output_type": "stream",
     "text": [
      "Your selected dataframe has 10 columns.\n",
      "There are 1 columns that have missing values.\n"
     ]
    },
    {
     "data": {
      "text/html": [
       "<div>\n",
       "<style scoped>\n",
       "    .dataframe tbody tr th:only-of-type {\n",
       "        vertical-align: middle;\n",
       "    }\n",
       "\n",
       "    .dataframe tbody tr th {\n",
       "        vertical-align: top;\n",
       "    }\n",
       "\n",
       "    .dataframe thead th {\n",
       "        text-align: right;\n",
       "    }\n",
       "</style>\n",
       "<table border=\"1\" class=\"dataframe\">\n",
       "  <thead>\n",
       "    <tr style=\"text-align: right;\">\n",
       "      <th></th>\n",
       "      <th>Missing Values</th>\n",
       "      <th>% of Total Values</th>\n",
       "    </tr>\n",
       "  </thead>\n",
       "  <tbody>\n",
       "    <tr>\n",
       "      <th>total_bedrooms</th>\n",
       "      <td>207</td>\n",
       "      <td>1.0</td>\n",
       "    </tr>\n",
       "  </tbody>\n",
       "</table>\n",
       "</div>"
      ],
      "text/plain": [
       "                Missing Values  % of Total Values\n",
       "total_bedrooms             207                1.0"
      ]
     },
     "execution_count": 11,
     "metadata": {},
     "output_type": "execute_result"
    }
   ],
   "source": [
    "# Find the missing values in the dataset by calling the above function\n",
    "missing_values_table(housing)"
   ]
  },
  {
   "cell_type": "code",
   "execution_count": 12,
   "id": "3c6e200c",
   "metadata": {
    "ExecuteTime": {
     "end_time": "2022-05-12T16:09:51.345224Z",
     "start_time": "2022-05-12T16:09:51.316225Z"
    }
   },
   "outputs": [
    {
     "data": {
      "text/html": [
       "<div>\n",
       "<style scoped>\n",
       "    .dataframe tbody tr th:only-of-type {\n",
       "        vertical-align: middle;\n",
       "    }\n",
       "\n",
       "    .dataframe tbody tr th {\n",
       "        vertical-align: top;\n",
       "    }\n",
       "\n",
       "    .dataframe thead th {\n",
       "        text-align: right;\n",
       "    }\n",
       "</style>\n",
       "<table border=\"1\" class=\"dataframe\">\n",
       "  <thead>\n",
       "    <tr style=\"text-align: right;\">\n",
       "      <th></th>\n",
       "      <th>longitude</th>\n",
       "      <th>latitude</th>\n",
       "      <th>housing_median_age</th>\n",
       "      <th>total_rooms</th>\n",
       "      <th>total_bedrooms</th>\n",
       "      <th>population</th>\n",
       "      <th>households</th>\n",
       "      <th>median_income</th>\n",
       "      <th>median_house_value</th>\n",
       "    </tr>\n",
       "  </thead>\n",
       "  <tbody>\n",
       "    <tr>\n",
       "      <th>0</th>\n",
       "      <td>-122.23</td>\n",
       "      <td>37.88</td>\n",
       "      <td>41.0</td>\n",
       "      <td>880.0</td>\n",
       "      <td>129.0</td>\n",
       "      <td>322.0</td>\n",
       "      <td>126.0</td>\n",
       "      <td>8.3252</td>\n",
       "      <td>452600.0</td>\n",
       "    </tr>\n",
       "    <tr>\n",
       "      <th>1</th>\n",
       "      <td>-122.22</td>\n",
       "      <td>37.86</td>\n",
       "      <td>21.0</td>\n",
       "      <td>7099.0</td>\n",
       "      <td>1106.0</td>\n",
       "      <td>2401.0</td>\n",
       "      <td>1138.0</td>\n",
       "      <td>8.3014</td>\n",
       "      <td>358500.0</td>\n",
       "    </tr>\n",
       "    <tr>\n",
       "      <th>2</th>\n",
       "      <td>-122.24</td>\n",
       "      <td>37.85</td>\n",
       "      <td>52.0</td>\n",
       "      <td>1467.0</td>\n",
       "      <td>190.0</td>\n",
       "      <td>496.0</td>\n",
       "      <td>177.0</td>\n",
       "      <td>7.2574</td>\n",
       "      <td>352100.0</td>\n",
       "    </tr>\n",
       "    <tr>\n",
       "      <th>3</th>\n",
       "      <td>-122.25</td>\n",
       "      <td>37.85</td>\n",
       "      <td>52.0</td>\n",
       "      <td>1274.0</td>\n",
       "      <td>235.0</td>\n",
       "      <td>558.0</td>\n",
       "      <td>219.0</td>\n",
       "      <td>5.6431</td>\n",
       "      <td>341300.0</td>\n",
       "    </tr>\n",
       "    <tr>\n",
       "      <th>4</th>\n",
       "      <td>-122.25</td>\n",
       "      <td>37.85</td>\n",
       "      <td>52.0</td>\n",
       "      <td>1627.0</td>\n",
       "      <td>280.0</td>\n",
       "      <td>565.0</td>\n",
       "      <td>259.0</td>\n",
       "      <td>3.8462</td>\n",
       "      <td>342200.0</td>\n",
       "    </tr>\n",
       "  </tbody>\n",
       "</table>\n",
       "</div>"
      ],
      "text/plain": [
       "   longitude  latitude  housing_median_age  total_rooms  total_bedrooms  \\\n",
       "0    -122.23     37.88                41.0        880.0           129.0   \n",
       "1    -122.22     37.86                21.0       7099.0          1106.0   \n",
       "2    -122.24     37.85                52.0       1467.0           190.0   \n",
       "3    -122.25     37.85                52.0       1274.0           235.0   \n",
       "4    -122.25     37.85                52.0       1627.0           280.0   \n",
       "\n",
       "   population  households  median_income  median_house_value  \n",
       "0       322.0       126.0         8.3252            452600.0  \n",
       "1      2401.0      1138.0         8.3014            358500.0  \n",
       "2       496.0       177.0         7.2574            352100.0  \n",
       "3       558.0       219.0         5.6431            341300.0  \n",
       "4       565.0       259.0         3.8462            342200.0  "
      ]
     },
     "execution_count": 12,
     "metadata": {},
     "output_type": "execute_result"
    }
   ],
   "source": [
    "# Extract the numerical features in the dataset\n",
    "housing.select_dtypes(include=['number']).head()"
   ]
  },
  {
   "cell_type": "markdown",
   "id": "ca92aac1",
   "metadata": {},
   "source": [
    "**NB:** For large datasets, it is important to separate the numerical features from the categorical features"
   ]
  },
  {
   "cell_type": "code",
   "execution_count": 13,
   "id": "e871f895",
   "metadata": {
    "ExecuteTime": {
     "end_time": "2022-05-12T16:09:51.361224Z",
     "start_time": "2022-05-12T16:09:51.347224Z"
    }
   },
   "outputs": [
    {
     "data": {
      "text/html": [
       "<div>\n",
       "<style scoped>\n",
       "    .dataframe tbody tr th:only-of-type {\n",
       "        vertical-align: middle;\n",
       "    }\n",
       "\n",
       "    .dataframe tbody tr th {\n",
       "        vertical-align: top;\n",
       "    }\n",
       "\n",
       "    .dataframe thead th {\n",
       "        text-align: right;\n",
       "    }\n",
       "</style>\n",
       "<table border=\"1\" class=\"dataframe\">\n",
       "  <thead>\n",
       "    <tr style=\"text-align: right;\">\n",
       "      <th></th>\n",
       "      <th>ocean_proximity</th>\n",
       "    </tr>\n",
       "  </thead>\n",
       "  <tbody>\n",
       "    <tr>\n",
       "      <th>0</th>\n",
       "      <td>NEAR BAY</td>\n",
       "    </tr>\n",
       "    <tr>\n",
       "      <th>1</th>\n",
       "      <td>NEAR BAY</td>\n",
       "    </tr>\n",
       "    <tr>\n",
       "      <th>2</th>\n",
       "      <td>NEAR BAY</td>\n",
       "    </tr>\n",
       "    <tr>\n",
       "      <th>3</th>\n",
       "      <td>NEAR BAY</td>\n",
       "    </tr>\n",
       "    <tr>\n",
       "      <th>4</th>\n",
       "      <td>NEAR BAY</td>\n",
       "    </tr>\n",
       "  </tbody>\n",
       "</table>\n",
       "</div>"
      ],
      "text/plain": [
       "  ocean_proximity\n",
       "0        NEAR BAY\n",
       "1        NEAR BAY\n",
       "2        NEAR BAY\n",
       "3        NEAR BAY\n",
       "4        NEAR BAY"
      ]
     },
     "execution_count": 13,
     "metadata": {},
     "output_type": "execute_result"
    }
   ],
   "source": [
    "# Extracting the categorical features\n",
    "housing.select_dtypes(include=['object']).head()"
   ]
  },
  {
   "cell_type": "code",
   "execution_count": 14,
   "id": "8b3effbc",
   "metadata": {
    "ExecuteTime": {
     "end_time": "2022-05-12T16:09:51.377223Z",
     "start_time": "2022-05-12T16:09:51.363233Z"
    }
   },
   "outputs": [
    {
     "data": {
      "text/plain": [
       "ocean_proximity\n",
       "<1H OCEAN          9136\n",
       "INLAND             6551\n",
       "NEAR OCEAN         2658\n",
       "NEAR BAY           2290\n",
       "ISLAND                5\n",
       "dtype: int64"
      ]
     },
     "execution_count": 14,
     "metadata": {},
     "output_type": "execute_result"
    }
   ],
   "source": [
    "# finding the distribution of each feature category\n",
    "# housing['ocean_proximity'].value_counts() ## Works fine\n",
    "\n",
    "housing.select_dtypes(include=['object']).value_counts()"
   ]
  },
  {
   "cell_type": "code",
   "execution_count": 15,
   "id": "762b37c3",
   "metadata": {
    "ExecuteTime": {
     "end_time": "2022-05-12T16:09:51.425267Z",
     "start_time": "2022-05-12T16:09:51.379231Z"
    }
   },
   "outputs": [
    {
     "data": {
      "text/html": [
       "<div>\n",
       "<style scoped>\n",
       "    .dataframe tbody tr th:only-of-type {\n",
       "        vertical-align: middle;\n",
       "    }\n",
       "\n",
       "    .dataframe tbody tr th {\n",
       "        vertical-align: top;\n",
       "    }\n",
       "\n",
       "    .dataframe thead th {\n",
       "        text-align: right;\n",
       "    }\n",
       "</style>\n",
       "<table border=\"1\" class=\"dataframe\">\n",
       "  <thead>\n",
       "    <tr style=\"text-align: right;\">\n",
       "      <th></th>\n",
       "      <th>longitude</th>\n",
       "      <th>latitude</th>\n",
       "      <th>housing_median_age</th>\n",
       "      <th>total_rooms</th>\n",
       "      <th>total_bedrooms</th>\n",
       "      <th>population</th>\n",
       "      <th>households</th>\n",
       "      <th>median_income</th>\n",
       "      <th>median_house_value</th>\n",
       "    </tr>\n",
       "  </thead>\n",
       "  <tbody>\n",
       "    <tr>\n",
       "      <th>count</th>\n",
       "      <td>20640.000000</td>\n",
       "      <td>20640.000000</td>\n",
       "      <td>20640.000000</td>\n",
       "      <td>20640.000000</td>\n",
       "      <td>20433.000000</td>\n",
       "      <td>20640.000000</td>\n",
       "      <td>20640.000000</td>\n",
       "      <td>20640.000000</td>\n",
       "      <td>20640.000000</td>\n",
       "    </tr>\n",
       "    <tr>\n",
       "      <th>mean</th>\n",
       "      <td>-119.569704</td>\n",
       "      <td>35.631861</td>\n",
       "      <td>28.639486</td>\n",
       "      <td>2635.763081</td>\n",
       "      <td>537.870553</td>\n",
       "      <td>1425.476744</td>\n",
       "      <td>499.539680</td>\n",
       "      <td>3.870671</td>\n",
       "      <td>206855.816909</td>\n",
       "    </tr>\n",
       "    <tr>\n",
       "      <th>std</th>\n",
       "      <td>2.003532</td>\n",
       "      <td>2.135952</td>\n",
       "      <td>12.585558</td>\n",
       "      <td>2181.615252</td>\n",
       "      <td>421.385070</td>\n",
       "      <td>1132.462122</td>\n",
       "      <td>382.329753</td>\n",
       "      <td>1.899822</td>\n",
       "      <td>115395.615874</td>\n",
       "    </tr>\n",
       "    <tr>\n",
       "      <th>min</th>\n",
       "      <td>-124.350000</td>\n",
       "      <td>32.540000</td>\n",
       "      <td>1.000000</td>\n",
       "      <td>2.000000</td>\n",
       "      <td>1.000000</td>\n",
       "      <td>3.000000</td>\n",
       "      <td>1.000000</td>\n",
       "      <td>0.499900</td>\n",
       "      <td>14999.000000</td>\n",
       "    </tr>\n",
       "    <tr>\n",
       "      <th>10%</th>\n",
       "      <td>-122.290000</td>\n",
       "      <td>33.630000</td>\n",
       "      <td>13.000000</td>\n",
       "      <td>941.000000</td>\n",
       "      <td>198.000000</td>\n",
       "      <td>510.000000</td>\n",
       "      <td>184.000000</td>\n",
       "      <td>1.903800</td>\n",
       "      <td>82300.000000</td>\n",
       "    </tr>\n",
       "    <tr>\n",
       "      <th>25%</th>\n",
       "      <td>-121.800000</td>\n",
       "      <td>33.930000</td>\n",
       "      <td>18.000000</td>\n",
       "      <td>1447.750000</td>\n",
       "      <td>296.000000</td>\n",
       "      <td>787.000000</td>\n",
       "      <td>280.000000</td>\n",
       "      <td>2.563400</td>\n",
       "      <td>119600.000000</td>\n",
       "    </tr>\n",
       "    <tr>\n",
       "      <th>50%</th>\n",
       "      <td>-118.490000</td>\n",
       "      <td>34.260000</td>\n",
       "      <td>29.000000</td>\n",
       "      <td>2127.000000</td>\n",
       "      <td>435.000000</td>\n",
       "      <td>1166.000000</td>\n",
       "      <td>409.000000</td>\n",
       "      <td>3.534800</td>\n",
       "      <td>179700.000000</td>\n",
       "    </tr>\n",
       "    <tr>\n",
       "      <th>75%</th>\n",
       "      <td>-118.010000</td>\n",
       "      <td>37.710000</td>\n",
       "      <td>37.000000</td>\n",
       "      <td>3148.000000</td>\n",
       "      <td>647.000000</td>\n",
       "      <td>1725.000000</td>\n",
       "      <td>605.000000</td>\n",
       "      <td>4.743250</td>\n",
       "      <td>264725.000000</td>\n",
       "    </tr>\n",
       "    <tr>\n",
       "      <th>99%</th>\n",
       "      <td>-116.290000</td>\n",
       "      <td>40.626100</td>\n",
       "      <td>52.000000</td>\n",
       "      <td>11212.110000</td>\n",
       "      <td>2221.360000</td>\n",
       "      <td>5805.830000</td>\n",
       "      <td>1982.660000</td>\n",
       "      <td>10.596540</td>\n",
       "      <td>500001.000000</td>\n",
       "    </tr>\n",
       "    <tr>\n",
       "      <th>max</th>\n",
       "      <td>-114.310000</td>\n",
       "      <td>41.950000</td>\n",
       "      <td>52.000000</td>\n",
       "      <td>39320.000000</td>\n",
       "      <td>6445.000000</td>\n",
       "      <td>35682.000000</td>\n",
       "      <td>6082.000000</td>\n",
       "      <td>15.000100</td>\n",
       "      <td>500001.000000</td>\n",
       "    </tr>\n",
       "  </tbody>\n",
       "</table>\n",
       "</div>"
      ],
      "text/plain": [
       "          longitude      latitude  housing_median_age   total_rooms  \\\n",
       "count  20640.000000  20640.000000        20640.000000  20640.000000   \n",
       "mean    -119.569704     35.631861           28.639486   2635.763081   \n",
       "std        2.003532      2.135952           12.585558   2181.615252   \n",
       "min     -124.350000     32.540000            1.000000      2.000000   \n",
       "10%     -122.290000     33.630000           13.000000    941.000000   \n",
       "25%     -121.800000     33.930000           18.000000   1447.750000   \n",
       "50%     -118.490000     34.260000           29.000000   2127.000000   \n",
       "75%     -118.010000     37.710000           37.000000   3148.000000   \n",
       "99%     -116.290000     40.626100           52.000000  11212.110000   \n",
       "max     -114.310000     41.950000           52.000000  39320.000000   \n",
       "\n",
       "       total_bedrooms    population    households  median_income  \\\n",
       "count    20433.000000  20640.000000  20640.000000   20640.000000   \n",
       "mean       537.870553   1425.476744    499.539680       3.870671   \n",
       "std        421.385070   1132.462122    382.329753       1.899822   \n",
       "min          1.000000      3.000000      1.000000       0.499900   \n",
       "10%        198.000000    510.000000    184.000000       1.903800   \n",
       "25%        296.000000    787.000000    280.000000       2.563400   \n",
       "50%        435.000000   1166.000000    409.000000       3.534800   \n",
       "75%        647.000000   1725.000000    605.000000       4.743250   \n",
       "99%       2221.360000   5805.830000   1982.660000      10.596540   \n",
       "max       6445.000000  35682.000000   6082.000000      15.000100   \n",
       "\n",
       "       median_house_value  \n",
       "count        20640.000000  \n",
       "mean        206855.816909  \n",
       "std         115395.615874  \n",
       "min          14999.000000  \n",
       "10%          82300.000000  \n",
       "25%         119600.000000  \n",
       "50%         179700.000000  \n",
       "75%         264725.000000  \n",
       "99%         500001.000000  \n",
       "max         500001.000000  "
      ]
     },
     "execution_count": 15,
     "metadata": {},
     "output_type": "execute_result"
    }
   ],
   "source": [
    "# Summarizing the numerical attributes\n",
    "housing.describe(percentiles=[0.1, 0.25, .5, .75, .99])"
   ]
  },
  {
   "cell_type": "markdown",
   "id": "d34a997c",
   "metadata": {},
   "source": [
    "* Another quick way to get a feel of the type of data you are dealing with is to plot a histogram for **each numerical attribute.** \n",
    "* A histogram shows the number of instances\n",
    "(on the vertical axis) that have a given value range (on the horizontal axis). "
   ]
  },
  {
   "cell_type": "code",
   "execution_count": 16,
   "id": "a008e345",
   "metadata": {
    "ExecuteTime": {
     "end_time": "2022-05-12T16:09:53.388703Z",
     "start_time": "2022-05-12T16:09:51.474565Z"
    }
   },
   "outputs": [
    {
     "data": {
      "image/png": "[encoded data removed]",
      "text/plain": [
       "<Figure size 1440x1296 with 9 Axes>"
      ]
     },
     "metadata": {
      "needs_background": "light"
     },
     "output_type": "display_data"
    }
   ],
   "source": [
    "# A histogram of numerical attributes.\n",
    "housing.hist(bins = 40, figsize=(20,18));"
   ]
  },
  {
   "cell_type": "markdown",
   "id": "ed81c5e3",
   "metadata": {
    "ExecuteTime": {
     "end_time": "2022-05-11T09:34:35.121209Z",
     "start_time": "2022-05-11T09:34:35.121209Z"
    }
   },
   "source": [
    "**Comments** \n",
    "* The median income is considered a very important feature to the determination of median house values.(**Domain knowledge**)\n",
    "* A close look at the median income seems unclear if whether it is capped and also the currency used.\n",
    "* If after checking with the team that collected the data, you are told that the data has been scaled and capped at 15 (actually, 15.0001) for higher median incomes, and at 0.5 (actually, 0.4999) for lower median incomes, the needed adjustments must be made.\n",
    "* This will therefore mean, the numbers represent roughly tens of thousands of dollars (e.g., 3 actually means about $30,000). \n",
    "* many more people fall between 1 and 6 on the income scale.\n",
    "*  There are fewer people earning high incomes.\n",
    "* The housing median age is also capped at 50.\n",
    "\n",
    "* The median house value also seemed capped at a certain figure of 500,000. This will indicate to the model that, pricing can never go beyond this range, which may be deceptive to the learning and prediction process.\n",
    "\n",
    "* Most of the features are left tail heavy and this can make it difficult for some machine learning models to detect patterns.\n",
    "\n",
    "* Tail heavy features need to be transformed into a Gaussian like distribution.\n",
    "\n",
    "The impact of capped values require a further discussion with domain experts to accertain the direction of exploration."
   ]
  },
  {
   "cell_type": "markdown",
   "id": "3e1bf8f0",
   "metadata": {},
   "source": [
    "**QUESTIONS**\n",
    "* To or not to correct skewness?\n",
    "* To remove outliers or treat outliers?                \n",
    "    *Recommended to handle outliers first as some models don't perform well with outliers*\n",
    "* To drop or not to drop a feature?                       \n",
    "    *Comes after the model training*\n",
    "\n",
    "These and othere decisions will be taken when the intital training is completed."
   ]
  },
  {
   "cell_type": "markdown",
   "id": "f9aa0d08",
   "metadata": {},
   "source": [
    "**Important**           \n",
    "  * Before you look at the data any further, you need to create a **test set**, put it aside, and never look at it.\n",
    "* Check if the label is well distributed by categorizing them.\n",
    "*The categorization in the above step is run together on train_test_split and stratifiedshufflesplit.*\n",
    "  * The category with the best distribution of attributes is adopted.\n",
    "  * If however, the dataset is large, a train_test_split, is usually ideal as it can be well representative of the population.\n",
    "  * This should be carried in line with the project Objectives.\n",
    "  "
   ]
  },
  {
   "cell_type": "code",
   "execution_count": 17,
   "id": "2dbd80fd-2892-4049-a7ab-5af51bf80208",
   "metadata": {},
   "outputs": [
    {
     "data": {
      "text/html": [
       "<div>\n",
       "<style scoped>\n",
       "    .dataframe tbody tr th:only-of-type {\n",
       "        vertical-align: middle;\n",
       "    }\n",
       "\n",
       "    .dataframe tbody tr th {\n",
       "        vertical-align: top;\n",
       "    }\n",
       "\n",
       "    .dataframe thead th {\n",
       "        text-align: right;\n",
       "    }\n",
       "</style>\n",
       "<table border=\"1\" class=\"dataframe\">\n",
       "  <thead>\n",
       "    <tr style=\"text-align: right;\">\n",
       "      <th></th>\n",
       "      <th>longitude</th>\n",
       "      <th>latitude</th>\n",
       "      <th>housing_median_age</th>\n",
       "      <th>total_rooms</th>\n",
       "      <th>total_bedrooms</th>\n",
       "      <th>population</th>\n",
       "      <th>households</th>\n",
       "      <th>median_income</th>\n",
       "      <th>median_house_value</th>\n",
       "    </tr>\n",
       "  </thead>\n",
       "  <tbody>\n",
       "    <tr>\n",
       "      <th>0</th>\n",
       "      <td>-122.23</td>\n",
       "      <td>37.88</td>\n",
       "      <td>41.0</td>\n",
       "      <td>880.0</td>\n",
       "      <td>129.0</td>\n",
       "      <td>322.0</td>\n",
       "      <td>126.0</td>\n",
       "      <td>8.3252</td>\n",
       "      <td>452600.0</td>\n",
       "    </tr>\n",
       "    <tr>\n",
       "      <th>1</th>\n",
       "      <td>-122.22</td>\n",
       "      <td>37.86</td>\n",
       "      <td>21.0</td>\n",
       "      <td>7099.0</td>\n",
       "      <td>1106.0</td>\n",
       "      <td>2401.0</td>\n",
       "      <td>1138.0</td>\n",
       "      <td>8.3014</td>\n",
       "      <td>358500.0</td>\n",
       "    </tr>\n",
       "    <tr>\n",
       "      <th>2</th>\n",
       "      <td>-122.24</td>\n",
       "      <td>37.85</td>\n",
       "      <td>52.0</td>\n",
       "      <td>1467.0</td>\n",
       "      <td>190.0</td>\n",
       "      <td>496.0</td>\n",
       "      <td>177.0</td>\n",
       "      <td>7.2574</td>\n",
       "      <td>352100.0</td>\n",
       "    </tr>\n",
       "    <tr>\n",
       "      <th>3</th>\n",
       "      <td>-122.25</td>\n",
       "      <td>37.85</td>\n",
       "      <td>52.0</td>\n",
       "      <td>1274.0</td>\n",
       "      <td>235.0</td>\n",
       "      <td>558.0</td>\n",
       "      <td>219.0</td>\n",
       "      <td>5.6431</td>\n",
       "      <td>341300.0</td>\n",
       "    </tr>\n",
       "    <tr>\n",
       "      <th>4</th>\n",
       "      <td>-122.25</td>\n",
       "      <td>37.85</td>\n",
       "      <td>52.0</td>\n",
       "      <td>1627.0</td>\n",
       "      <td>280.0</td>\n",
       "      <td>565.0</td>\n",
       "      <td>259.0</td>\n",
       "      <td>3.8462</td>\n",
       "      <td>342200.0</td>\n",
       "    </tr>\n",
       "  </tbody>\n",
       "</table>\n",
       "</div>"
      ],
      "text/plain": [
       "   longitude  latitude  housing_median_age  total_rooms  total_bedrooms  \\\n",
       "0    -122.23     37.88                41.0        880.0           129.0   \n",
       "1    -122.22     37.86                21.0       7099.0          1106.0   \n",
       "2    -122.24     37.85                52.0       1467.0           190.0   \n",
       "3    -122.25     37.85                52.0       1274.0           235.0   \n",
       "4    -122.25     37.85                52.0       1627.0           280.0   \n",
       "\n",
       "   population  households  median_income  median_house_value  \n",
       "0       322.0       126.0         8.3252            452600.0  \n",
       "1      2401.0      1138.0         8.3014            358500.0  \n",
       "2       496.0       177.0         7.2574            352100.0  \n",
       "3       558.0       219.0         5.6431            341300.0  \n",
       "4       565.0       259.0         3.8462            342200.0  "
      ]
     },
     "execution_count": 17,
     "metadata": {},
     "output_type": "execute_result"
    }
   ],
   "source": [
    "# Finding the numerical attributes\n",
    "housing_numerical = housing.select_dtypes('number')\n",
    "housing_numerical.head()"
   ]
  },
  {
   "cell_type": "code",
   "execution_count": 18,
   "id": "7ed9d933",
   "metadata": {
    "ExecuteTime": {
     "end_time": "2022-05-12T16:09:53.403654Z",
     "start_time": "2022-05-12T16:09:53.391656Z"
    }
   },
   "outputs": [],
   "source": [
    "# Default parameter settings\n",
    "from sklearn.model_selection import KFold\n",
    "test_size = 0.2\n",
    "train_set = 0.8\n",
    "seed = 42\n",
    "cv = KFold(n_splits=7, random_state=None, shuffle=False) "
   ]
  },
  {
   "cell_type": "markdown",
   "id": "3022fded-0aa0-46e7-acdf-61f0dda22a77",
   "metadata": {},
   "source": [
    "### Categorization        \n",
    "Before comparing random sampling with stratified shuffle split, a categorization of an important feature is important.      \n",
    "By this we can appreciate how well the median income(chosen important feature) is distributed accross bins."
   ]
  },
  {
   "cell_type": "markdown",
   "id": "615c8ec0-70ce-467a-99de-142521d84fdb",
   "metadata": {
    "ExecuteTime": {
     "end_time": "2022-05-12T10:50:59.042504Z",
     "start_time": "2022-05-12T10:50:59.035510Z"
    }
   },
   "source": [
    " * From the histogram above, does the median_income reflect a fair distribution of the population?\n",
    " * No, as it is observed, the distribution is between a concentration of 0.5 and 6. \n",
    " * This is likely to impact the sampling ratios.\n",
    " * In the case where the dataset size is small(in thousands and below) care must be taken in splitting to not introduce a **sampling bias**.\n",
    " * To reflect this distribution, an attempt is made to split into stratas, where each strata is assumed to fairly represent the population.\n",
    " * First, we identify a feature that is very important to predicting the label and which is not fairly distributed(**median income**) and then categorize it into smaller stratas.\n",
    " \n"
   ]
  },
  {
   "cell_type": "code",
   "execution_count": 19,
   "id": "05ca945a",
   "metadata": {
    "ExecuteTime": {
     "end_time": "2022-05-12T16:09:53.577330Z",
     "start_time": "2022-05-12T16:09:53.426654Z"
    }
   },
   "outputs": [
    {
     "data": {
      "image/png": "[encoded data removed]",
      "text/plain": [
       "<Figure size 1368x360 with 1 Axes>"
      ]
     },
     "metadata": {
      "needs_background": "light"
     },
     "output_type": "display_data"
    }
   ],
   "source": [
    "# Creating category distribution of an important feature as disclosed by domain experts\n",
    "# create a new attribute(income category) in the main dataset.\n",
    "# Split it into 5 categories\n",
    "housing[\"income_category\"] = pd.cut(housing[\"median_income\"],\n",
    "                                    bins = [0., 1.5, 3.0, 4.5, 6, np.inf],\n",
    "                                    labels=[1, 2, 3, 4, 5])\n",
    "# Ploting the categorization as a histogram\n",
    "housing[\"income_category\"].hist(figsize =(19, 5))\n",
    "plt.title('Categorization of median_income');\n"
   ]
  },
  {
   "cell_type": "markdown",
   "id": "ab9f1930-ebef-45f0-b03f-59d9265488d8",
   "metadata": {},
   "source": [
    "**Comment**\n",
    "* We infere, median income as an important attribute in predicting the label.\n",
    "* However, it doesn't have a fair distribution of it's values.\n",
    "* This means, we may suffer a sampling bias.\n",
    "* A new column to store the income_categorization(strats) is created.\n",
    "* So, we split it into small but sufficiently sized representative stratas using pd.cut()\n",
    "* A stratified split is performed to check the distribution.\n",
    "* Compare the random split values with the stratified split values.\n",
    "* The best is adopted as a fair reflection of the sample size.\n",
    "* The newly created column is droped."
   ]
  },
  {
   "cell_type": "markdown",
   "id": "b424953f",
   "metadata": {},
   "source": [
    "### RANDOM SAMPLING          \n",
    "* We seek to find out if whether or not the features are at least fairly distributed and a good representation of the population(housing) when random sampling is used.   \n",
    "* Random sampling however, works well on larger datasets."
   ]
  },
  {
   "cell_type": "code",
   "execution_count": 20,
   "id": "9b3a72fe",
   "metadata": {
    "ExecuteTime": {
     "end_time": "2022-05-12T16:09:53.419661Z",
     "start_time": "2022-05-12T16:09:53.405657Z"
    }
   },
   "outputs": [],
   "source": [
    "# Splitting the dataset using RANDOM SAMPLING.\n",
    "train_set, test_set = train_test_split(housing, test_size=0.2, random_state= seed)"
   ]
  },
  {
   "cell_type": "markdown",
   "id": "bbbe1a48-05b5-4c21-8f08-2a491d42b3d4",
   "metadata": {
    "ExecuteTime": {
     "end_time": "2022-05-12T10:58:30.636643Z",
     "start_time": "2022-05-12T10:58:30.631603Z"
    }
   },
   "source": [
    "### STRATIFIED SAMPLING       \n",
    "* Here, we split the dataset into smaller stratas.\n",
    "* The goal here is to check if whether or not each strata holds a fair distribution of the population."
   ]
  },
  {
   "cell_type": "code",
   "execution_count": 21,
   "id": "e886b14e",
   "metadata": {
    "ExecuteTime": {
     "end_time": "2022-05-12T16:09:53.609336Z",
     "start_time": "2022-05-12T16:09:53.579299Z"
    }
   },
   "outputs": [],
   "source": [
    "# Stratified Random Shuffling Split\n",
    "from sklearn.model_selection import StratifiedShuffleSplit\n",
    "split = StratifiedShuffleSplit(n_splits=1, test_size=0.2, random_state=42)\n",
    "for train_index, test_index in split.split(housing, housing[\"income_category\"]):\n",
    "    strat_train_set = housing.loc[train_index]\n",
    "    strat_test_set = housing.loc[test_index]"
   ]
  },
  {
   "cell_type": "markdown",
   "id": "39661b34-62cc-4f87-8616-7a9f9b3bdcb0",
   "metadata": {},
   "source": [
    "### Comparing the two split methods "
   ]
  },
  {
   "cell_type": "markdown",
   "id": "ec073c00-7267-4e54-a434-17bd5bb3aed5",
   "metadata": {},
   "source": [
    "**Random sampling technique**"
   ]
  },
  {
   "cell_type": "code",
   "execution_count": 22,
   "id": "e9f4504a-7637-4c7a-a6cd-cb15b23ce93e",
   "metadata": {
    "ExecuteTime": {
     "end_time": "2022-05-12T16:09:53.960491Z",
     "start_time": "2022-05-12T16:09:53.835312Z"
    }
   },
   "outputs": [
    {
     "data": {
      "image/png": "[encoded data removed]",
      "text/plain": [
       "<Figure size 720x1080 with 2 Axes>"
      ]
     },
     "metadata": {},
     "output_type": "display_data"
    }
   ],
   "source": [
    "# Plotiing the distribution of features in the train and test sets\n",
    "plt.figure(figsize=(10,15))\n",
    "\n",
    "plt.subplot(121)\n",
    "plt.pie(housing['income_category'].value_counts(),labels=housing['income_category'].unique(),autopct = '%1.7f%%')\n",
    "plt.title('Training Dataset')\n",
    "\n",
    "plt.subplot(122)\n",
    "plt.pie(strat_train_set['income_category'].value_counts(),labels=strat_train_set['income_category'].unique(),autopct = '%1.7f%%')\n",
    "plt.title('Test Dataset')\n",
    "\n",
    "plt.tight_layout()"
   ]
  },
  {
   "cell_type": "markdown",
   "id": "c06c05eb-4d00-49dd-a495-242544dac6d7",
   "metadata": {},
   "source": [
    "**Stratified shuffle split technique**"
   ]
  },
  {
   "cell_type": "code",
   "execution_count": 23,
   "id": "5d366062",
   "metadata": {
    "ExecuteTime": {
     "end_time": "2022-05-12T16:09:53.817322Z",
     "start_time": "2022-05-12T16:09:53.612296Z"
    }
   },
   "outputs": [
    {
     "data": {
      "image/png": "[encoded data removed]",
      "text/plain": [
       "<Figure size 720x1080 with 2 Axes>"
      ]
     },
     "metadata": {},
     "output_type": "display_data"
    },
    {
     "data": {
      "text/plain": [
       "<Figure size 432x288 with 0 Axes>"
      ]
     },
     "metadata": {},
     "output_type": "display_data"
    }
   ],
   "source": [
    "# Using pie chart to explain the distribution of features with the use of Strateifiedshufflesplit.\n",
    "\n",
    "plt.figure(figsize=(10,15))\n",
    "\n",
    "plt.subplot(121)\n",
    "plt.pie(strat_train_set['income_category'].value_counts(), labels=strat_train_set['income_category'].unique(),autopct = '%1.7f%%')\n",
    "plt.title('Training Dataset')\n",
    "\n",
    "plt.subplot(122)\n",
    "plt.pie(strat_test_set['income_category'].value_counts(),labels=strat_test_set['income_category'].unique(),autopct = '%1.7f%%')\n",
    "plt.title('Test Dataset')\n",
    "\n",
    "plt.show()\n",
    "plt.tight_layout();"
   ]
  },
  {
   "cell_type": "code",
   "execution_count": 24,
   "id": "fe643b1b",
   "metadata": {
    "ExecuteTime": {
     "end_time": "2022-05-12T16:09:53.991462Z",
     "start_time": "2022-05-12T16:09:53.978299Z"
    },
    "tags": []
   },
   "outputs": [],
   "source": [
    "# # income category generated using the stratefied test set\n",
    "# strat_test_set[\"income_category\"].value_counts() / len(strat_test_set)"
   ]
  },
  {
   "cell_type": "code",
   "execution_count": 25,
   "id": "485349a5",
   "metadata": {
    "ExecuteTime": {
     "end_time": "2022-05-12T16:09:54.007470Z",
     "start_time": "2022-05-12T16:09:53.994464Z"
    },
    "tags": []
   },
   "outputs": [],
   "source": [
    "# # Test set generated on income category using the random sampling approach\n",
    "# strat_train_set['income_category'].value_counts() / len(strat_train_set)\n",
    "# housing['ocean_proximity'].value_counts()/ len(housing['ocean_proximity'])\n"
   ]
  },
  {
   "cell_type": "code",
   "execution_count": 26,
   "id": "f1fd79c3",
   "metadata": {
    "ExecuteTime": {
     "end_time": "2022-05-12T16:09:54.023465Z",
     "start_time": "2022-05-12T16:09:54.010463Z"
    },
    "tags": []
   },
   "outputs": [],
   "source": [
    "# # # Income category generated using the entire dataset\n",
    "# housing[\"income_category\"].value_counts() / len(housing['income_category'])"
   ]
  },
  {
   "cell_type": "code",
   "execution_count": 27,
   "id": "d3bdb603",
   "metadata": {
    "ExecuteTime": {
     "end_time": "2022-05-12T16:09:54.039463Z",
     "start_time": "2022-05-12T16:09:54.024468Z"
    },
    "tags": []
   },
   "outputs": [],
   "source": [
    "# pd.DataFrame({'Overall':housing[\"income_category\"].value_counts() / len(housing['income_category']), \n",
    "#               'Stratified': strat_test_set[\"income_category\"].value_counts() / len(strat_test_set),\n",
    "#               'Random':    strat_train_set['income_category'].value_counts() / len(strat_train_set),\n",
    "#               'Rand.%Error': (((strat_train_set['income_category'].value_counts() / len(strat_train_set))-(housing[\"income_category\"].value_counts() / len(housing['income_category'])))/(housing[\"income_category\"].value_counts() / len(housing['income_category'])))*100,\n",
    "#               'Strat.%Error': (((strat_test_set['income_category'].value_counts() / len(strat_test_set['income_category']))-(housing[\"income_category\"].value_counts() / len(housing['income_category'])))/(housing[\"income_category\"].value_counts() / len(housing['income_category'])))*100})"
   ]
  },
  {
   "cell_type": "code",
   "execution_count": 28,
   "id": "1cd18794",
   "metadata": {
    "ExecuteTime": {
     "end_time": "2022-05-12T16:09:54.071513Z",
     "start_time": "2022-05-12T16:09:54.041464Z"
    }
   },
   "outputs": [],
   "source": [
    "def income_cat_proportions(data):\n",
    "    return data[\"income_category\"].value_counts() / len(data)\n",
    "\n",
    "train_set, test_set = train_test_split(housing, test_size=0.2, random_state=42)\n",
    "\n",
    "compare_props = pd.DataFrame({\n",
    "    \"Overall\": income_cat_proportions(housing),\n",
    "    \"Stratified\": income_cat_proportions(strat_test_set),\n",
    "    \"Random\": income_cat_proportions(test_set),\n",
    "}).sort_index()\n",
    "compare_props[\"Rand. %error\"] = 100 * compare_props[\"Random\"] / compare_props[\"Overall\"] - 100\n",
    "compare_props[\"Strat. %error\"] = 100 * compare_props[\"Stratified\"] / compare_props[\"Overall\"] - 100"
   ]
  },
  {
   "cell_type": "code",
   "execution_count": 29,
   "id": "8a1abe44",
   "metadata": {
    "ExecuteTime": {
     "end_time": "2022-05-12T16:09:54.087467Z",
     "start_time": "2022-05-12T16:09:54.073468Z"
    }
   },
   "outputs": [
    {
     "data": {
      "text/html": [
       "<div>\n",
       "<style scoped>\n",
       "    .dataframe tbody tr th:only-of-type {\n",
       "        vertical-align: middle;\n",
       "    }\n",
       "\n",
       "    .dataframe tbody tr th {\n",
       "        vertical-align: top;\n",
       "    }\n",
       "\n",
       "    .dataframe thead th {\n",
       "        text-align: right;\n",
       "    }\n",
       "</style>\n",
       "<table border=\"1\" class=\"dataframe\">\n",
       "  <thead>\n",
       "    <tr style=\"text-align: right;\">\n",
       "      <th></th>\n",
       "      <th>Overall</th>\n",
       "      <th>Stratified</th>\n",
       "      <th>Random</th>\n",
       "      <th>Rand. %error</th>\n",
       "      <th>Strat. %error</th>\n",
       "    </tr>\n",
       "  </thead>\n",
       "  <tbody>\n",
       "    <tr>\n",
       "      <th>1</th>\n",
       "      <td>0.039826</td>\n",
       "      <td>0.039971</td>\n",
       "      <td>0.040213</td>\n",
       "      <td>0.973236</td>\n",
       "      <td>0.364964</td>\n",
       "    </tr>\n",
       "    <tr>\n",
       "      <th>2</th>\n",
       "      <td>0.318847</td>\n",
       "      <td>0.318798</td>\n",
       "      <td>0.324370</td>\n",
       "      <td>1.732260</td>\n",
       "      <td>-0.015195</td>\n",
       "    </tr>\n",
       "    <tr>\n",
       "      <th>3</th>\n",
       "      <td>0.350581</td>\n",
       "      <td>0.350533</td>\n",
       "      <td>0.358527</td>\n",
       "      <td>2.266446</td>\n",
       "      <td>-0.013820</td>\n",
       "    </tr>\n",
       "    <tr>\n",
       "      <th>4</th>\n",
       "      <td>0.176308</td>\n",
       "      <td>0.176357</td>\n",
       "      <td>0.167393</td>\n",
       "      <td>-5.056334</td>\n",
       "      <td>0.027480</td>\n",
       "    </tr>\n",
       "    <tr>\n",
       "      <th>5</th>\n",
       "      <td>0.114438</td>\n",
       "      <td>0.114341</td>\n",
       "      <td>0.109496</td>\n",
       "      <td>-4.318374</td>\n",
       "      <td>-0.084674</td>\n",
       "    </tr>\n",
       "  </tbody>\n",
       "</table>\n",
       "</div>"
      ],
      "text/plain": [
       "    Overall  Stratified    Random  Rand. %error  Strat. %error\n",
       "1  0.039826    0.039971  0.040213      0.973236       0.364964\n",
       "2  0.318847    0.318798  0.324370      1.732260      -0.015195\n",
       "3  0.350581    0.350533  0.358527      2.266446      -0.013820\n",
       "4  0.176308    0.176357  0.167393     -5.056334       0.027480\n",
       "5  0.114438    0.114341  0.109496     -4.318374      -0.084674"
      ]
     },
     "execution_count": 29,
     "metadata": {},
     "output_type": "execute_result"
    }
   ],
   "source": [
    "compare_props"
   ]
  },
  {
   "cell_type": "markdown",
   "id": "c10f1f46",
   "metadata": {
    "ExecuteTime": {
     "end_time": "2022-05-11T19:06:07.024933Z",
     "start_time": "2022-05-11T19:06:07.013902Z"
    }
   },
   "source": [
    "**Comment**    \n",
    "As you can see, the test set generated using stratified sampling has\n",
    "income category proportions almost identical to those in the full dataset, whereas the\n",
    "test set generated using purely random sampling is skewed\n",
    "\n",
    "* We can conclude that the stratefied sampling approach is represents the distribution fairly.\n",
    "* StratifiedShuffleSplit is adopted."
   ]
  },
  {
   "cell_type": "code",
   "execution_count": 30,
   "id": "2758e1c7",
   "metadata": {
    "ExecuteTime": {
     "end_time": "2022-05-12T16:09:54.103504Z",
     "start_time": "2022-05-12T16:09:54.089468Z"
    }
   },
   "outputs": [],
   "source": [
    "# Dropping the created income_category attribute in the stratefied sampling, so we can get the original dataset.\n",
    "for set_ in (strat_train_set, strat_test_set):\n",
    "    set_.drop(\"income_category\", axis=1, inplace=True)"
   ]
  },
  {
   "cell_type": "markdown",
   "id": "041bf392-ffa7-43cb-a84e-0df5e4774e77",
   "metadata": {},
   "source": [
    "### Exploring the training set\n",
    "* train_set is named housing, same as the original dataframe."
   ]
  },
  {
   "cell_type": "code",
   "execution_count": 31,
   "id": "dfad6bc5-ab4d-4334-9ca8-c22772c13fce",
   "metadata": {},
   "outputs": [],
   "source": [
    "housing = strat_train_set.copy(deep = True)"
   ]
  },
  {
   "cell_type": "code",
   "execution_count": 32,
   "id": "298a79a0-a4ed-4a53-9b02-d74ad9063822",
   "metadata": {},
   "outputs": [
    {
     "data": {
      "text/plain": [
       "(16512, 10)"
      ]
     },
     "execution_count": 32,
     "metadata": {},
     "output_type": "execute_result"
    }
   ],
   "source": [
    "housing.shape"
   ]
  },
  {
   "cell_type": "code",
   "execution_count": 33,
   "id": "fcdfb328-d8f2-4fc7-8056-533e2f076490",
   "metadata": {},
   "outputs": [
    {
     "data": {
      "text/plain": [
       "(4128, 10)"
      ]
     },
     "execution_count": 33,
     "metadata": {},
     "output_type": "execute_result"
    }
   ],
   "source": [
    "strat_test_set.shape"
   ]
  },
  {
   "cell_type": "markdown",
   "id": "44e9e312-1935-414d-bbe4-a2ae82d71d70",
   "metadata": {},
   "source": [
    "#### Visualizing the data to gain further insights"
   ]
  },
  {
   "cell_type": "markdown",
   "id": "719a7c8a",
   "metadata": {},
   "source": [
    "So far we have only taken a quick glance at the data to get a general understanding of the kind of data being manipulated. Now the goal is to go into a little more depth.            \n",
    "First, make sure you have put the test set aside and you are only exploring the strat_train_set. Also, if the training set is very large, you may want to sample an exploration set, to make manipulations easy and fast.              \n",
    "In our case, the set is quite small, so you can just work directly on the full set. Let’s create a copy so that you can play with it\n",
    "without harming the training set:"
   ]
  },
  {
   "cell_type": "code",
   "execution_count": 34,
   "id": "813bd265-7090-4de9-80d3-745ca364f6e4",
   "metadata": {},
   "outputs": [
    {
     "data": {
      "text/plain": [
       "(16512, 10)"
      ]
     },
     "execution_count": 34,
     "metadata": {},
     "output_type": "execute_result"
    }
   ],
   "source": [
    "housing.shape"
   ]
  },
  {
   "cell_type": "code",
   "execution_count": 35,
   "id": "05640817-397d-4e54-895b-ff85a63cacab",
   "metadata": {},
   "outputs": [
    {
     "data": {
      "text/plain": [
       "(16512, 10)"
      ]
     },
     "execution_count": 35,
     "metadata": {},
     "output_type": "execute_result"
    }
   ],
   "source": [
    "strat_train_set.shape"
   ]
  },
  {
   "cell_type": "code",
   "execution_count": 36,
   "id": "54255fa9-be74-47d4-b7d1-64cd592ed2b0",
   "metadata": {},
   "outputs": [
    {
     "data": {
      "text/plain": [
       "(4128, 10)"
      ]
     },
     "execution_count": 36,
     "metadata": {},
     "output_type": "execute_result"
    }
   ],
   "source": [
    "strat_test_set.shape"
   ]
  },
  {
   "cell_type": "markdown",
   "id": "48438890",
   "metadata": {},
   "source": [
    "**Visualizing Geographical Data**           \n",
    "We'd visualize this just because we have lattitude and longitude data."
   ]
  },
  {
   "cell_type": "code",
   "execution_count": 37,
   "id": "6e560b0e",
   "metadata": {
    "ExecuteTime": {
     "end_time": "2022-05-12T16:09:54.308648Z",
     "start_time": "2022-05-12T16:09:54.105469Z"
    }
   },
   "outputs": [
    {
     "data": {
      "image/png": "[encoded data removed]",
      "text/plain": [
       "<Figure size 1440x576 with 1 Axes>"
      ]
     },
     "metadata": {
      "needs_background": "light"
     },
     "output_type": "display_data"
    }
   ],
   "source": [
    "housing.plot(kind = 'scatter', x=\"longitude\", y=\"latitude\", figsize = (20,8), alpha = .2);\n",
    "# Setting the alpha value helps us see areas with high data points"
   ]
  },
  {
   "cell_type": "markdown",
   "id": "bfa28ad1",
   "metadata": {},
   "source": [
    "**Comments**      \n",
    "Here, we observe areas of high density."
   ]
  },
  {
   "cell_type": "code",
   "execution_count": 38,
   "id": "bbe4cac8",
   "metadata": {
    "ExecuteTime": {
     "end_time": "2022-05-12T16:09:54.844064Z",
     "start_time": "2022-05-12T16:09:54.310468Z"
    }
   },
   "outputs": [
    {
     "data": {
      "image/png": "[encoded data removed]",
      "text/plain": [
       "<Figure size 720x576 with 2 Axes>"
      ]
     },
     "metadata": {
      "needs_background": "light"
     },
     "output_type": "display_data"
    }
   ],
   "source": [
    "# Lets visualize distribution in an area, comparing the population with the median house prices.\n",
    "housing.plot(kind=\"scatter\", x=\"longitude\", y=\"latitude\", alpha=0.5,\n",
    "             s=housing[\"population\"]/100, c = \"median_house_value\", \n",
    "             label=\"Population\", figsize=(10,8),\n",
    "             cmap=plt.get_cmap(\"jet\"), colorbar=True,\n",
    "            )\n",
    "plt.legend();"
   ]
  },
  {
   "cell_type": "markdown",
   "id": "f0006759-6833-4621-bae4-893f4fec66fe",
   "metadata": {},
   "source": [
    "**Attribute Combination**   \n",
    "It may be important to try creating new attributed that may have more meaning in helping one make a good prediction. Some attributes may on their own not make much meaning to when they are combined with other. This may, in most instances boost the correlation values."
   ]
  },
  {
   "cell_type": "code",
   "execution_count": 39,
   "id": "bcbd23c7-9b67-4851-a709-c659c1f4f647",
   "metadata": {},
   "outputs": [],
   "source": [
    "housing[\"rooms_per_household\"] = housing[\"total_rooms\"]/housing[\"households\"]\n",
    "# housing[\"bedrooms_per_room\"] = housing[\"total_bedrooms\"]/housing[\"total_rooms\"]\n",
    "# housing[\"population_per_household\"]=housing[\"population\"]/housing[\"households\"]\n",
    "housing['median_income_per_household'] = housing['median_income']/ housing['households']\n",
    "# housing[\"median_age_per_household\"] = housing[\"housing_median_age\"]/housing[\"median_income\"]"
   ]
  },
  {
   "cell_type": "markdown",
   "id": "339d4d2b",
   "metadata": {
    "ExecuteTime": {
     "end_time": "2022-05-11T11:58:37.369012Z",
     "start_time": "2022-05-11T11:58:37.348013Z"
    }
   },
   "source": [
    "### Correlation checks\n",
    "Here, we determine the linear relationship between each attribute annotated in numbers"
   ]
  },
  {
   "cell_type": "code",
   "execution_count": 40,
   "id": "c09e7d57-4ca5-46af-bece-29d61efad463",
   "metadata": {},
   "outputs": [],
   "source": [
    "def correlation_matrix(data):\n",
    "    fig, ax = plt.subplots(figsize=(15,5))\n",
    "    matrix_cor = sns.heatmap(data.corr(method = 'pearson'), annot=True, center=2, annot_kws={'size':15}, linecolor='red', linewidths='0.5', xticklabels=True, yticklabels=True)\n",
    "    plt.xticks(rotation = '90')\n",
    "    matrix_cor.invert_xaxis()\n",
    "    \n",
    "    return matrix_cor\n",
    "    "
   ]
  },
  {
   "cell_type": "code",
   "execution_count": 41,
   "id": "fb9ce956-9f71-4800-a25c-7553efbf519e",
   "metadata": {},
   "outputs": [
    {
     "data": {
      "image/png": "[encoded data removed]",
      "text/plain": [
       "<Figure size 1080x360 with 2 Axes>"
      ]
     },
     "metadata": {
      "needs_background": "light"
     },
     "output_type": "display_data"
    }
   ],
   "source": [
    "correlation_matrix(housing);"
   ]
  },
  {
   "cell_type": "code",
   "execution_count": 42,
   "id": "16d96485",
   "metadata": {
    "ExecuteTime": {
     "end_time": "2022-05-12T16:09:56.254363Z",
     "start_time": "2022-05-12T16:09:56.224362Z"
    }
   },
   "outputs": [
    {
     "data": {
      "text/plain": [
       "median_house_value             1.000000\n",
       "median_income                  0.687151\n",
       "rooms_per_household            0.146255\n",
       "total_rooms                    0.135140\n",
       "housing_median_age             0.114146\n",
       "median_income_per_household    0.088494\n",
       "households                     0.064590\n",
       "total_bedrooms                 0.047781\n",
       "population                    -0.026882\n",
       "longitude                     -0.047466\n",
       "latitude                      -0.142673\n",
       "Name: median_house_value, dtype: float64"
      ]
     },
     "execution_count": 42,
     "metadata": {},
     "output_type": "execute_result"
    }
   ],
   "source": [
    "corr_matrix = housing.corr() # Obtains correlation between all features\n",
    "corr_matrix['median_house_value'].sort_values(ascending=False) # Compares label with other attributes"
   ]
  },
  {
   "cell_type": "markdown",
   "id": "d62f2353-0006-4bed-ad40-a3deb1d2e15f",
   "metadata": {},
   "source": [
    "### Outlier check and handling\n"
   ]
  },
  {
   "cell_type": "markdown",
   "id": "00e360cc-b651-4617-bee0-9686423f8388",
   "metadata": {},
   "source": [
    "#### Check for outliers"
   ]
  },
  {
   "cell_type": "code",
   "execution_count": 43,
   "id": "0cce10de-949c-4345-a96f-d01706b6dade",
   "metadata": {},
   "outputs": [
    {
     "data": {
      "image/png": "[encoded data removed]",
      "text/plain": [
       "<Figure size 1440x864 with 14 Axes>"
      ]
     },
     "metadata": {
      "needs_background": "light"
     },
     "output_type": "display_data"
    }
   ],
   "source": [
    "# Box plot to check for outliers\n",
    "housing.plot(kind = 'box', subplots = True, layout=(2,7), figsize = (20,12), grid= True);"
   ]
  },
  {
   "cell_type": "markdown",
   "id": "21cd5c91-f01b-4b29-b42b-66e740eec526",
   "metadata": {},
   "source": [
    "**Comments**\n",
    "   1. total_rooms, total_bedrooms, population, households, meadian_income and median house value have outliers."
   ]
  },
  {
   "cell_type": "markdown",
   "id": "7506227b-bb78-42d2-bf80-92847419eaae",
   "metadata": {},
   "source": [
    "### Winsorization   \n",
    "When we remove outliers, we want to be careful that we are not throwing away measurements just because they look strange. They may be the result of actual phenomenon that we should further investigate. When removing outliers, one must endeavor to be as conservative as possible, using the definition of an extreme outlier:"
   ]
  },
  {
   "cell_type": "code",
   "execution_count": 44,
   "id": "81a8f284-6c18-4a9e-806a-2d88be2e9844",
   "metadata": {},
   "outputs": [],
   "source": [
    "from scipy.stats import mstats\n",
    "housing['population'] = mstats.winsorize(housing['population'], limits=[0.07, 0.07], inclusive=[True, True], inplace=True)\n",
    "housing['total_rooms'] = mstats.winsorize(housing['total_rooms'], limits=[0.07,0.07], inclusive=[True, True], inplace= True)\n",
    "housing['total_bedrooms'] = mstats.winsorize(housing['total_bedrooms'], limits=[0.07,0.07], inclusive=[True, True], inplace= True)\n",
    "housing['households'] = mstats.winsorize(housing['households'], limits=[0.06,0.06], inclusive=[True, True], inplace= True)\n",
    "housing['median_income'] = mstats.winsorize(housing['median_income'], limits=[0.04,0.04], inclusive=[True, True], inplace= True)\n",
    "housing['rooms_per_household'] = mstats.winsorize(housing['rooms_per_household'], limits=[0.04,0.04], inclusive=[True, True], inplace= True)\n",
    "# housing['bedrooms_per_room'] = mstats.winsorize(housing['bedrooms_per_room'], limits=[0.04,0.04], inclusive=[True, True], inplace= True)\n",
    "housing['median_income_per_household'] = mstats.winsorize(housing['median_income_per_household'], limits=[0.08,0.08], inclusive=[True, True], inplace= True)\n",
    "# housing['median_age_per_household'] = mstats.winsorize(housing['median_age_per_household'], limits=[0.05,0.05], inclusive=[True, True], inplace= True)"
   ]
  },
  {
   "cell_type": "code",
   "execution_count": 45,
   "id": "6b7514c8-3d07-429e-ad5f-a4e1243c4039",
   "metadata": {},
   "outputs": [
    {
     "data": {
      "image/png": "[encoded data removed]",
      "text/plain": [
       "<Figure size 1440x864 with 14 Axes>"
      ]
     },
     "metadata": {
      "needs_background": "light"
     },
     "output_type": "display_data"
    }
   ],
   "source": [
    "# Box plot to check for outliers after winsorization\n",
    "housing.plot(kind = 'box', subplots = True, layout=(2,7), figsize = (20,12), grid= True);"
   ]
  },
  {
   "cell_type": "code",
   "execution_count": 46,
   "id": "d34c6616-cee0-4042-937c-92782fb69705",
   "metadata": {},
   "outputs": [
    {
     "data": {
      "text/plain": [
       "median_house_value             1.000000\n",
       "median_income                  0.687276\n",
       "median_income_per_household    0.329546\n",
       "rooms_per_household            0.320471\n",
       "total_rooms                    0.173257\n",
       "housing_median_age             0.114146\n",
       "households                     0.076351\n",
       "total_bedrooms                 0.054780\n",
       "population                    -0.037507\n",
       "longitude                     -0.047466\n",
       "latitude                      -0.142673\n",
       "Name: median_house_value, dtype: float64"
      ]
     },
     "execution_count": 46,
     "metadata": {},
     "output_type": "execute_result"
    }
   ],
   "source": [
    "corr_matrix = housing.corr()\n",
    "corr_matrix['median_house_value'].sort_values(ascending=False)"
   ]
  },
  {
   "cell_type": "markdown",
   "id": "27917501-1abc-4e93-af26-2b81f5568633",
   "metadata": {},
   "source": [
    "#### VIF Test"
   ]
  },
  {
   "cell_type": "code",
   "execution_count": 47,
   "id": "2ac627cd-5487-405e-84a5-fea049d52b30",
   "metadata": {
    "tags": []
   },
   "outputs": [],
   "source": [
    "# from statsmodels.stats.outliers_influence import variance_inflation_factor\n",
    "# # Create a copy of the original DataFrame\n",
    "# vif_data = housing.copy()\n",
    "\n",
    "# # Drop the target feature from the DataFrame\n",
    "# vif_data_1 = vif_data.drop(['median_house_value', 'ocean_proximity'], axis =1)\n",
    "# # vif_data_1 = vif_data\n",
    "\n",
    "# # vif_data_1"
   ]
  },
  {
   "cell_type": "code",
   "execution_count": 48,
   "id": "3c28b7c2-1728-4b5b-9778-332371bc3baa",
   "metadata": {
    "tags": []
   },
   "outputs": [],
   "source": [
    "# # Calculating the VIF\n",
    "\n",
    "# def calc_vif(X):\n",
    "\n",
    "#     vif = pd.DataFrame()\n",
    "#     vif[\"variables\"] = X.columns\n",
    "#     vif[\"VIF\"] = [variance_inflation_factor(\n",
    "#         X.values, i) for i in range(X.shape[1])]\n",
    "\n",
    "#     return(vif)\n",
    "\n",
    "\n",
    "# X = vif_data_1.iloc[:, :]\n",
    "\n",
    "# calc_vif(X)"
   ]
  },
  {
   "cell_type": "code",
   "execution_count": 49,
   "id": "66c1c4fc-7c56-4fb1-aa6e-7dddc2988656",
   "metadata": {
    "tags": []
   },
   "outputs": [],
   "source": [
    "# # Drop the target feature from the DataFrame\n",
    "# vif_data_2 = vif_data_1.drop(['longitude','latitude', 'households'], axis =1)\n",
    "# # vif_data_2"
   ]
  },
  {
   "cell_type": "code",
   "execution_count": 50,
   "id": "4fe91cde-b33e-494b-9743-97d24f176b96",
   "metadata": {
    "tags": []
   },
   "outputs": [],
   "source": [
    "# # Calculating the VIF\n",
    "\n",
    "# def calc_vif(X):\n",
    "\n",
    "#     vif = pd.DataFrame()\n",
    "#     vif[\"variables\"] = X.columns\n",
    "#     vif[\"VIF\"] = [variance_inflation_factor(\n",
    "#         X.values, i) for i in range(X.shape[1])]\n",
    "\n",
    "#     return(vif)\n",
    "\n",
    "\n",
    "# # X = vif_data_2.iloc[:, :]\n",
    "# X = vif_data_2\n",
    "\n",
    "# calc_vif(X)"
   ]
  },
  {
   "cell_type": "markdown",
   "id": "d5a571c6-9b31-4308-9aac-66985ea9a70f",
   "metadata": {},
   "source": [
    "#### Collinearity check"
   ]
  },
  {
   "cell_type": "code",
   "execution_count": 51,
   "id": "71a79c63-bffd-4c26-9c65-27d76a744dc9",
   "metadata": {},
   "outputs": [],
   "source": [
    "# # Function to list features that are correlated\n",
    "# # Adds the first of the correlated pair only (not both)\n",
    "# def correlatedFeatures(dataset, threshold):\n",
    "#     correlated_columns = set()\n",
    "#     correlations = dataset.corr()\n",
    "#     for i in range(len(correlations)):\n",
    "#         for j in range(i):\n",
    "#             if abs(correlations.iloc[i,j]) > threshold:\n",
    "#                 correlated_columns.add(correlations.columns[i])\n",
    "#     return correlated_columns\n",
    "\n",
    "# # Get a set of correlated features, based on threshold correlation of 0.85\n",
    "# cf = correlatedFeatures(housing.drop('median_house_value', axis = 1), 0.70)\n",
    "# cf"
   ]
  },
  {
   "cell_type": "code",
   "execution_count": 52,
   "id": "8f3a5ae7-2876-4626-89e8-1e5d4eda337b",
   "metadata": {},
   "outputs": [],
   "source": [
    "# # Removes the correlated features\n",
    "# non_correlated = housing.drop(cf, axis=1) # This removes the correlated features and maintains  the non-correlated features.\n",
    "# # non_correlated.columns.value_counts().sum()\n",
    "# non_correlated.head(2)\n",
    "# # X_train = X_train.drop(cf, axis=1)\n",
    "# # X_test = X_test.drop(cf, axis=1)"
   ]
  },
  {
   "cell_type": "code",
   "execution_count": null,
   "id": "6c2572a9-b93e-4a92-8a9a-5641270c1e3c",
   "metadata": {},
   "outputs": [],
   "source": []
  },
  {
   "cell_type": "code",
   "execution_count": 53,
   "id": "0c1b7959-e618-4e15-b99e-01bd65d5257e",
   "metadata": {},
   "outputs": [],
   "source": [
    "# # Drops the correlated attributes in the dataset\n",
    "# data_after_droping_correlated_attributes = housing.drop(columns=non_correlated.columns, axis=1)\n",
    "# data_after_droping_correlated_attributes.head(2)"
   ]
  },
  {
   "cell_type": "code",
   "execution_count": 54,
   "id": "fe68fbc6-1318-48d6-9ed5-ee288ea73e69",
   "metadata": {},
   "outputs": [],
   "source": [
    "# fig, ax = plt.subplots(figsize = (15,8))\n",
    "# cor_matrix = sns.heatmap(non_correlated.corr(method='pearson'), annot=True, cmap='twilight',center=True)\n",
    "# cor_matrix.invert_xaxis()\n",
    "# plt.xticks(rotation = 90);"
   ]
  },
  {
   "cell_type": "code",
   "execution_count": null,
   "id": "d0180f8d-aaa1-4ac3-8a62-b260baefc83f",
   "metadata": {},
   "outputs": [],
   "source": []
  },
  {
   "cell_type": "markdown",
   "id": "fd26fe0c-42f3-45fc-b9c3-9c35f22b7018",
   "metadata": {},
   "source": [
    "#### Correlation matrix of all features included the re-engineered features.**"
   ]
  },
  {
   "cell_type": "code",
   "execution_count": 55,
   "id": "87dfcdf3-3cfd-4d5e-9a2a-228f6fbd658b",
   "metadata": {},
   "outputs": [],
   "source": [
    "# fig, ax = plt.subplots(figsize = (15,6))\n",
    "# cor_matrix = sns.heatmap(housing.corr(method='pearson'), annot=True, cmap='twilight',center=True)\n",
    "# cor_matrix.invert_xaxis()\n",
    "# plt.xticks(rotation = 90);"
   ]
  },
  {
   "cell_type": "code",
   "execution_count": 56,
   "id": "38266bff",
   "metadata": {
    "ExecuteTime": {
     "end_time": "2022-05-12T16:09:56.301362Z",
     "start_time": "2022-05-12T16:09:56.272363Z"
    }
   },
   "outputs": [],
   "source": [
    "# # Obtaining the correlation figures after feature engineering.\n",
    "# corr_matrix = housing.corr()\n",
    "# corr_matrix['median_house_value'].sort_values(ascending=False)"
   ]
  },
  {
   "cell_type": "markdown",
   "id": "966cfefd",
   "metadata": {},
   "source": [
    "## Data Cleaning**               \n",
    "* Most Machine Learning algorithms cannot work with missing values, so let’s create a few functions to take care of them.\n",
    "* We saw earlier that the total_bedrooms attribute has some missing values, so let’s fix this."
   ]
  },
  {
   "cell_type": "markdown",
   "id": "b4cfaf01",
   "metadata": {
    "tags": []
   },
   "source": [
    "### Preparing the Data for Machine Learning Algorithms   \n",
    " * Missing values to be fixed using the simpleimputer module which only work on numerical values. (*A Recommended method to fill missing values in large datasets*).\n",
    " "
   ]
  },
  {
   "cell_type": "code",
   "execution_count": 57,
   "id": "6bb2e419-dca5-4bc1-9611-6ce442900f0e",
   "metadata": {},
   "outputs": [],
   "source": [
    "# housing_training = X.copy()"
   ]
  },
  {
   "cell_type": "code",
   "execution_count": 58,
   "id": "8ea86817-5183-4b78-a513-4b94a406e68f",
   "metadata": {},
   "outputs": [
    {
     "data": {
      "text/plain": [
       "12"
      ]
     },
     "execution_count": 58,
     "metadata": {},
     "output_type": "execute_result"
    }
   ],
   "source": [
    "housing.columns.value_counts().sum()"
   ]
  },
  {
   "cell_type": "code",
   "execution_count": 59,
   "id": "7cda449e-d7ac-472f-82dc-39a8f8916b2f",
   "metadata": {},
   "outputs": [
    {
     "data": {
      "text/html": [
       "<div>\n",
       "<style scoped>\n",
       "    .dataframe tbody tr th:only-of-type {\n",
       "        vertical-align: middle;\n",
       "    }\n",
       "\n",
       "    .dataframe tbody tr th {\n",
       "        vertical-align: top;\n",
       "    }\n",
       "\n",
       "    .dataframe thead th {\n",
       "        text-align: right;\n",
       "    }\n",
       "</style>\n",
       "<table border=\"1\" class=\"dataframe\">\n",
       "  <thead>\n",
       "    <tr style=\"text-align: right;\">\n",
       "      <th></th>\n",
       "      <th>longitude</th>\n",
       "      <th>latitude</th>\n",
       "      <th>housing_median_age</th>\n",
       "      <th>total_rooms</th>\n",
       "      <th>total_bedrooms</th>\n",
       "      <th>population</th>\n",
       "      <th>households</th>\n",
       "      <th>median_income</th>\n",
       "      <th>median_house_value</th>\n",
       "      <th>ocean_proximity</th>\n",
       "      <th>rooms_per_household</th>\n",
       "      <th>median_income_per_household</th>\n",
       "    </tr>\n",
       "  </thead>\n",
       "  <tbody>\n",
       "    <tr>\n",
       "      <th>12655</th>\n",
       "      <td>-121.46</td>\n",
       "      <td>38.52</td>\n",
       "      <td>29.0</td>\n",
       "      <td>3873.0</td>\n",
       "      <td>797.0</td>\n",
       "      <td>2237.0</td>\n",
       "      <td>706.0</td>\n",
       "      <td>2.1736</td>\n",
       "      <td>72100.0</td>\n",
       "      <td>INLAND</td>\n",
       "      <td>5.485836</td>\n",
       "      <td>0.003079</td>\n",
       "    </tr>\n",
       "    <tr>\n",
       "      <th>15502</th>\n",
       "      <td>-117.23</td>\n",
       "      <td>33.09</td>\n",
       "      <td>7.0</td>\n",
       "      <td>5320.0</td>\n",
       "      <td>855.0</td>\n",
       "      <td>2015.0</td>\n",
       "      <td>768.0</td>\n",
       "      <td>6.3373</td>\n",
       "      <td>279600.0</td>\n",
       "      <td>NEAR OCEAN</td>\n",
       "      <td>6.927083</td>\n",
       "      <td>0.008252</td>\n",
       "    </tr>\n",
       "  </tbody>\n",
       "</table>\n",
       "</div>"
      ],
      "text/plain": [
       "       longitude  latitude  housing_median_age  total_rooms  total_bedrooms  \\\n",
       "12655    -121.46     38.52                29.0       3873.0           797.0   \n",
       "15502    -117.23     33.09                 7.0       5320.0           855.0   \n",
       "\n",
       "       population  households  median_income  median_house_value  \\\n",
       "12655      2237.0       706.0         2.1736             72100.0   \n",
       "15502      2015.0       768.0         6.3373            279600.0   \n",
       "\n",
       "      ocean_proximity  rooms_per_household  median_income_per_household  \n",
       "12655          INLAND             5.485836                     0.003079  \n",
       "15502      NEAR OCEAN             6.927083                     0.008252  "
      ]
     },
     "execution_count": 59,
     "metadata": {},
     "output_type": "execute_result"
    }
   ],
   "source": [
    "housing.head(2)"
   ]
  },
  {
   "cell_type": "code",
   "execution_count": null,
   "id": "32bc0060-65c6-4a7b-a420-43236bd7d6d4",
   "metadata": {},
   "outputs": [],
   "source": []
  },
  {
   "cell_type": "code",
   "execution_count": 60,
   "id": "3a712b5d-1bba-41da-a312-58d398eaccc7",
   "metadata": {},
   "outputs": [],
   "source": [
    "# housing = non_correlated.copy()"
   ]
  },
  {
   "cell_type": "code",
   "execution_count": 61,
   "id": "73290c30-3fcd-4bea-ab91-c15763ffb777",
   "metadata": {},
   "outputs": [],
   "source": [
    "# Independent features (X)\n",
    "\n",
    "housing_labels = housing[\"median_house_value\"]\n",
    "# housing_labels = housing_training[\"median_house_value\"].copy() \n",
    "\n",
    "# Dependent Features (y)"
   ]
  },
  {
   "cell_type": "code",
   "execution_count": 62,
   "id": "9b996446",
   "metadata": {
    "ExecuteTime": {
     "end_time": "2022-05-12T16:09:56.317367Z",
     "start_time": "2022-05-12T16:09:56.304363Z"
    }
   },
   "outputs": [],
   "source": [
    "# Creating the dependent and iheadependent features from the strat_train_set\n",
    "housing = housing.drop(\"median_house_value\", axis=1)\n",
    "# housing_independent_features = housing_training.drop(\"median_house_value\", axis=1).copy() \n",
    "\n"
   ]
  },
  {
   "cell_type": "code",
   "execution_count": 63,
   "id": "49cc2268-923f-4948-8783-5d08dbdd2719",
   "metadata": {},
   "outputs": [
    {
     "data": {
      "text/plain": [
       "11"
      ]
     },
     "execution_count": 63,
     "metadata": {},
     "output_type": "execute_result"
    }
   ],
   "source": [
    "housing.columns.value_counts().sum()"
   ]
  },
  {
   "cell_type": "code",
   "execution_count": 64,
   "id": "d3d966af-b775-4cb1-aead-c2ddfd369a15",
   "metadata": {},
   "outputs": [
    {
     "data": {
      "text/plain": [
       "(16512, 11)"
      ]
     },
     "execution_count": 64,
     "metadata": {},
     "output_type": "execute_result"
    }
   ],
   "source": [
    "# housing_independent_features.shape\n",
    "housing.shape"
   ]
  },
  {
   "cell_type": "code",
   "execution_count": 65,
   "id": "4ba9f536",
   "metadata": {
    "ExecuteTime": {
     "end_time": "2022-05-12T16:09:56.333364Z",
     "start_time": "2022-05-12T16:09:56.320362Z"
    }
   },
   "outputs": [],
   "source": [
    "# Extracting the Numerical features\n",
    "# housing_numericals = housing_independent_features.select_dtypes('number')\n",
    "housing_numericals = housing.select_dtypes('number')\n",
    "\n",
    "# Extracting the Categorical features\n",
    "# housing_categorical = housing_independent_features.select_dtypes('object')\n",
    "housing_categorical = housing.select_dtypes('object')\n",
    "\n",
    "\n",
    "# Creating a list of  numerical attributes \n",
    "numerical_attributes = list(housing_numericals)\n",
    "# Creating a list of categorical attributes\n",
    "categorical_attributes = list(housing_categorical)"
   ]
  },
  {
   "cell_type": "code",
   "execution_count": 66,
   "id": "8738ef3c-9d6d-4406-8136-852eda504929",
   "metadata": {},
   "outputs": [],
   "source": [
    "# import dtale\n",
    "# dtale.show(strat_train_set)"
   ]
  },
  {
   "cell_type": "markdown",
   "id": "949ae8d0-6955-4275-ba42-3b42584888d9",
   "metadata": {},
   "source": [
    "### Feature Scaling"
   ]
  },
  {
   "cell_type": "markdown",
   "id": "a7e918b0",
   "metadata": {},
   "source": [
    "One of the most important transformations you need to apply to your data is featurescaling. With few exceptions, Machine Learning algorithms don’t perform well when the input numerical attributes have very different scales. This is the case for the housing data: the total number of rooms ranges from about 6 to 39,320, while the median incomes only range from 0 to 15. Note that scaling the target values is generally not required         \n",
    "There are two common ways to get all attributes to have the same scale:           \n",
    "   * **MinMaxScaler**              \n",
    "   * **StandardScaler**."
   ]
  },
  {
   "cell_type": "code",
   "execution_count": 67,
   "id": "7d97988d",
   "metadata": {
    "ExecuteTime": {
     "end_time": "2022-05-12T16:09:56.349362Z",
     "start_time": "2022-05-12T16:09:56.337368Z"
    }
   },
   "outputs": [],
   "source": [
    "from sklearn.pipeline import Pipeline\n",
    "from sklearn.impute import SimpleImputer\n",
    "from sklearn.compose import ColumnTransformer\n",
    "from sklearn.preprocessing import MinMaxScaler, StandardScaler\n",
    "from sklearn.preprocessing import OneHotEncoder"
   ]
  },
  {
   "cell_type": "code",
   "execution_count": 68,
   "id": "5c1130db",
   "metadata": {
    "ExecuteTime": {
     "end_time": "2022-05-12T16:09:56.381402Z",
     "start_time": "2022-05-12T16:09:56.352363Z"
    }
   },
   "outputs": [],
   "source": [
    "# Create a pipeline for numerical features.\n",
    "num_pipeline = Pipeline(steps=[('Imputer', SimpleImputer(strategy='median')),\n",
    "                               ('Std_Scaler', StandardScaler())\n",
    "                              ])\n",
    "housing_num_tr = num_pipeline.fit_transform(housing_numericals)"
   ]
  },
  {
   "cell_type": "markdown",
   "id": "aa7138cc",
   "metadata": {},
   "source": [
    "**Handling Numerical and Column Attributes Simultaneously in a pipeline**"
   ]
  },
  {
   "cell_type": "code",
   "execution_count": 69,
   "id": "69de2105",
   "metadata": {
    "ExecuteTime": {
     "end_time": "2022-05-12T16:09:56.429360Z",
     "start_time": "2022-05-12T16:09:56.384361Z"
    }
   },
   "outputs": [],
   "source": [
    "# Creating a full pipeline for the numerical and categorical attributes.\n",
    "\n",
    "full_pipeline = ColumnTransformer([\n",
    "                                   ('numerical',   num_pipeline, numerical_attributes),\n",
    "                                   ('categorical', OneHotEncoder(), categorical_attributes)\n",
    "                                  ])\n",
    "\n",
    "housing_prepared = full_pipeline.fit_transform(housing);  "
   ]
  },
  {
   "cell_type": "code",
   "execution_count": 70,
   "id": "d6a22cfe-683d-4e53-8c30-1456ca59090f",
   "metadata": {},
   "outputs": [
    {
     "data": {
      "text/plain": [
       "(16512, 15)"
      ]
     },
     "execution_count": 70,
     "metadata": {},
     "output_type": "execute_result"
    }
   ],
   "source": [
    "housing_prepared.shape"
   ]
  },
  {
   "cell_type": "code",
   "execution_count": 71,
   "id": "b03da13e-02b7-457f-b2bb-54de9da1c929",
   "metadata": {},
   "outputs": [
    {
     "data": {
      "text/plain": [
       "LinearRegression()"
      ]
     },
     "execution_count": 71,
     "metadata": {},
     "output_type": "execute_result"
    }
   ],
   "source": [
    "from sklearn.linear_model import LinearRegression\n",
    "\n",
    "lin_reg = LinearRegression()\n",
    "lin_reg.fit(housing_prepared, housing_labels)"
   ]
  },
  {
   "cell_type": "code",
   "execution_count": 72,
   "id": "33bf3cfd-fc3d-497c-82be-e085b2e73321",
   "metadata": {},
   "outputs": [
    {
     "name": "stdout",
     "output_type": "stream",
     "text": [
      "Predictions: [ 71160.34946827 317898.6411887  160290.28769473 190226.84879148\n",
      " 243707.46999229]\n"
     ]
    }
   ],
   "source": [
    "# let's try the full preprocessing pipeline on a few training instances\n",
    "from sklearn.metrics import mean_squared_error\n",
    "some_data = housing.iloc[:5]\n",
    "some_labels = housing_labels.iloc[:5]\n",
    "some_data_prepared = full_pipeline.transform(some_data)\n",
    "\n",
    "\n",
    "print(\"Predictions:\", lin_reg.predict(some_data_prepared))"
   ]
  },
  {
   "cell_type": "code",
   "execution_count": 73,
   "id": "649c322b-cc3a-4301-8cd9-bd05714727c5",
   "metadata": {},
   "outputs": [
    {
     "data": {
      "text/plain": [
       "52074.226560448216"
      ]
     },
     "execution_count": 73,
     "metadata": {},
     "output_type": "execute_result"
    }
   ],
   "source": [
    "some_data_predictions = lin_reg.predict(some_data_prepared)\n",
    "some_data_mse = mean_squared_error(some_labels, some_data_predictions)\n",
    "some_data_rmse = np.sqrt(some_data_mse)\n",
    "some_data_rmse"
   ]
  },
  {
   "cell_type": "code",
   "execution_count": 74,
   "id": "e2a9e2a2-ba7a-459d-a6ef-e7dd48ee3870",
   "metadata": {},
   "outputs": [
    {
     "name": "stdout",
     "output_type": "stream",
     "text": [
      "Labels: [72100.0, 279600.0, 82700.0, 112500.0, 238300.0]\n"
     ]
    }
   ],
   "source": [
    "print(\"Labels:\", list(some_labels))\n"
   ]
  },
  {
   "cell_type": "code",
   "execution_count": 75,
   "id": "4534d4a5-c0a7-4b65-9aef-d8138da01370",
   "metadata": {},
   "outputs": [],
   "source": [
    "# some_data_prepared"
   ]
  },
  {
   "cell_type": "code",
   "execution_count": 76,
   "id": "1e541cc1-44b0-43df-bdb1-eeef838877ab",
   "metadata": {},
   "outputs": [
    {
     "data": {
      "text/plain": [
       "67827.3539361662"
      ]
     },
     "execution_count": 76,
     "metadata": {},
     "output_type": "execute_result"
    }
   ],
   "source": [
    "from sklearn.metrics import mean_squared_error\n",
    "\n",
    "housing_predictions = lin_reg.predict(housing_prepared)\n",
    "lin_mse = mean_squared_error(housing_labels, housing_predictions)\n",
    "lin_rmse = np.sqrt(lin_mse)\n",
    "lin_rmse"
   ]
  },
  {
   "cell_type": "code",
   "execution_count": 77,
   "id": "67d5ae19-e15c-4d13-8b94-ed217f2bac86",
   "metadata": {},
   "outputs": [],
   "source": [
    "X_train = housing_prepared.copy()\n",
    "y_train = housing_labels.copy()\n",
    "#These are from housing_training = the strat_train_set.copy()"
   ]
  },
  {
   "cell_type": "code",
   "execution_count": 78,
   "id": "70ff10e4-883d-48c4-a1f1-cc48a9aedb92",
   "metadata": {},
   "outputs": [
    {
     "data": {
      "text/plain": [
       "(16512, 15)"
      ]
     },
     "execution_count": 78,
     "metadata": {},
     "output_type": "execute_result"
    }
   ],
   "source": [
    "housing_prepared.shape"
   ]
  },
  {
   "cell_type": "markdown",
   "id": "e86eaa9b",
   "metadata": {
    "ExecuteTime": {
     "end_time": "2022-05-11T21:09:14.653665Z",
     "start_time": "2022-05-11T21:09:14.643265Z"
    }
   },
   "source": [
    "### Select and Train a Model**            \n",
    "At last! the proble is defined, collected and analyzed the data, sampled a training and test set, and created transformation pipelines to automatically clean and prepare the data for Machine Learning algorithms. Now we choose and train a Machine Learning model.\n"
   ]
  },
  {
   "cell_type": "code",
   "execution_count": 79,
   "id": "2a86fd99",
   "metadata": {
    "ExecuteTime": {
     "end_time": "2022-05-12T16:22:13.965385Z",
     "start_time": "2022-05-12T16:22:13.957384Z"
    }
   },
   "outputs": [],
   "source": [
    "# Machine learning models\n",
    "from sklearn.linear_model import LinearRegression\n",
    "from sklearn.tree import DecisionTreeRegressor, ExtraTreeRegressor\n",
    "from xgboost import XGBRegressor, XGBRFRegressor\n",
    "from sklearn.ensemble import RandomForestRegressor, GradientBoostingRegressor, RandomForestRegressor\n",
    "from sklearn.linear_model import Lasso, Ridge\n",
    "from sklearn.neighbors import KNeighborsRegressor\n",
    "from sklearn.model_selection import cross_val_score, GridSearchCV, RandomizedSearchCV\n",
    "from sklearn.svm import SVR\n",
    "# Model evaluation metrics\n",
    "from sklearn.metrics import mean_squared_error, r2_score, mean_absolute_error\n",
    "# Formating the print statement\n",
    "from pprint import pprint\n",
    "# Transforming the label\n",
    "from sklearn.compose import TransformedTargetRegressor"
   ]
  },
  {
   "cell_type": "code",
   "execution_count": 80,
   "id": "fb35d103",
   "metadata": {
    "ExecuteTime": {
     "end_time": "2022-05-12T16:09:56.476364Z",
     "start_time": "2022-05-12T16:09:56.462365Z"
    }
   },
   "outputs": [],
   "source": [
    "# Slicing the strat_train set into bits\n",
    "some_data = housing.iloc[:5] # X\n",
    "some_labels = housing_labels.iloc[:5] # y\n",
    "same_data_prepared = full_pipeline.fit_transform(some_data) # transform the train data "
   ]
  },
  {
   "cell_type": "code",
   "execution_count": 81,
   "id": "1cf5d494",
   "metadata": {},
   "outputs": [
    {
     "data": {
      "text/plain": [
       "0.6563157774405554"
      ]
     },
     "execution_count": 81,
     "metadata": {},
     "output_type": "execute_result"
    }
   ],
   "source": [
    "# A pipeline \n",
    "full_pipeline_with_predictor = Pipeline([\n",
    "                                        (\"preparation\", full_pipeline),\n",
    "                                        (\"linear\", LinearRegression())\n",
    "                                       ])\n",
    "\n",
    "full_pipeline_with_predictor.fit(housing, housing_labels)\n",
    "# full_pipeline_with_predictor.score(same_data_prepared, some_labels)\n",
    "full_pipeline_with_predictor.predict(some_data)\n",
    "full_pipeline_with_predictor.score(housing, housing_labels)"
   ]
  },
  {
   "cell_type": "code",
   "execution_count": 82,
   "id": "f614747f-f54d-4105-9440-e3ee19b1062a",
   "metadata": {},
   "outputs": [],
   "source": [
    "from sklearn.model_selection import KFold\n",
    "seed = 42\n",
    "scoring = 'neg_mean_squared_error'\n",
    "scoring_r2 = 'r2'\n",
    "cv = KFold(n_splits=5, shuffle=True, random_state=seed)"
   ]
  },
  {
   "cell_type": "markdown",
   "id": "8d49685c-8426-478e-9cf9-10fc1f63fb36",
   "metadata": {},
   "source": [
    "### Training and evaluating the models on RMSE using only the train set"
   ]
  },
  {
   "cell_type": "code",
   "execution_count": 83,
   "id": "5b9e2655-7fbc-4528-b973-ce6fa37c2cde",
   "metadata": {
    "tags": []
   },
   "outputs": [],
   "source": [
    "# def intial_train_without_cross_validation(name, model, X, y):\n",
    "#     reg = model()\n",
    "#     reg.fit(X,y)\n",
    "#     reg_predictions = reg.predict(X)\n",
    "#     reg_mse = mean_squared_error(y, reg_predictions)\n",
    "#     reg_rmse = np.sqrt(reg_mse)\n",
    "#     # reg_score = reg.score(X_train, y_train)\n",
    "#     # reg_r2 = r2_score(y, reg_predictions)\n",
    "#     # print(reg_rmse)\n",
    "#     print('_______________________________')\n",
    "#     # print(name, reg_rmse, reg_score )\n",
    "#     print(name, reg_rmse)"
   ]
  },
  {
   "cell_type": "code",
   "execution_count": 84,
   "id": "e0c70f97-3c5a-4d4c-8d5a-976cdc5d10de",
   "metadata": {
    "tags": []
   },
   "outputs": [],
   "source": [
    "# models = [LinearRegression, DecisionTreeRegressor, SVR, GradientBoostingRegressor, XGBRegressor, \n",
    "#           XGBRFRegressor, ExtraTreeRegressor,KNeighborsRegressor, RandomForestRegressor, Lasso, Ridge]\n",
    "# for model in models:\n",
    "#     intial_train_without_cross_validation(name=model.__name__, model=model, X=X_train, y=y_train)"
   ]
  },
  {
   "cell_type": "markdown",
   "id": "dfddd4ed-8ceb-4eba-8220-3a19946f3f2d",
   "metadata": {},
   "source": [
    "### Training and evaluating models with Crossvalidation on train set"
   ]
  },
  {
   "cell_type": "code",
   "execution_count": 85,
   "id": "05e2f254-caef-405b-9cdd-d084e6f3e4db",
   "metadata": {
    "tags": []
   },
   "outputs": [],
   "source": [
    "# # A cross validattion function to compute the error scores\n",
    "# def training_with_cross_val_score(name,model, X, y):\n",
    "#     reg = model()\n",
    "#     scores= cross_val_score(estimator=reg, scoring=scoring, X=X, y=y, cv=cv, n_jobs=None, verbose = False)\n",
    "#     reg_score_mean = scores.mean()\n",
    "#     reg_score_std = scores.std()\n",
    "#     reg_rmse = np.sqrt(-scores)\n",
    "#     print('——————————————————————————————————————————————————————')\n",
    "\n",
    "    \n",
    "#     print(name, 'CV_Mean :', reg_rmse.mean())\n",
    "#     print(\"Mean:\", scores.mean())\n",
    "#     print(\"Standard deviation:\", scores.std())\n",
    "#     return(reg_rmse)"
   ]
  },
  {
   "cell_type": "code",
   "execution_count": 86,
   "id": "a0498a94-41a1-4469-b6c1-80b1aee06ef5",
   "metadata": {
    "tags": []
   },
   "outputs": [],
   "source": [
    "# print('crossvalscore results')\n",
    "# # Listing models to try\n",
    "# # modelx = [LinearRegression, DecisionTreeRegressor, SVR, GradientBoostingRegressor, XGBRegressor, \n",
    "# #           XGBRFRegressor, ExtraTreeRegressor,KNeighborsRegressor, RandomForestRegressor, Lasso, Ridge]\n",
    "# modelx = [LinearRegression, DecisionTreeRegressor, SVR, GradientBoostingRegressor, XGBRegressor, \n",
    "#           XGBRFRegressor, ExtraTreeRegressor,KNeighborsRegressor, RandomForestRegressor, Lasso, Ridge]\n",
    "\n",
    "# for model in modelx:\n",
    "#     training_with_cross_val_score(name=model.__name__, model=model, X=X_train, y=y_train)"
   ]
  },
  {
   "cell_type": "markdown",
   "id": "da509855-c1ab-421f-b479-f5814ebbed16",
   "metadata": {},
   "source": [
    "### Training and evaluating models using GridSearch and TransformedTargetRegressor       \n",
    "This is useful in appying a non linear transformation on the label."
   ]
  },
  {
   "cell_type": "code",
   "execution_count": 87,
   "id": "f1237650-3fcb-4cb5-a462-9b13be9ca4b5",
   "metadata": {
    "tags": []
   },
   "outputs": [],
   "source": [
    "# def model_training_with_gridsearchcv_and_transformed_target_reg(name, model, X, y):\n",
    "#     grid = GridSearchCV(TransformedTargetRegressor(regressor=model, func=np.log, inverse_func=np.exp,check_inverse=True),\n",
    "#                         param_grid={}, scoring=scoring, cv=cv, return_train_score=True,verbose=0, n_jobs=None)                         \n",
    "#     grid.fit(X, y)\n",
    "#     # predictions = grid.predict(X)\n",
    "#     grid_score = grid.cv_results_['mean_train_score']\n",
    "#     grid_rmse = np.sqrt(-grid_score)\n",
    "#     # grid_score = grid.best_estimator_.score(X, y)\n",
    "#     print(name,grid_rmse)\n",
    "#     return grid_score;"
   ]
  },
  {
   "cell_type": "code",
   "execution_count": 88,
   "id": "023dd665-5c45-4bb4-b25a-47ab87e0993c",
   "metadata": {
    "tags": []
   },
   "outputs": [],
   "source": [
    "    # models = [LinearRegression(), DecisionTreeRegressor(random_state=seed), SVR(), GradientBoostingRegressor(random_state=seed),         XGBRegressor(), XGBRFRegressor(), ExtraTreeRegressor(random_state=seed),KNeighborsRegressor(), RandomForestRegressor(random_state=seed), Lasso(), Ridge()]\n",
    "\n",
    "    # for model in models:\n",
    "    #     model_training_with_gridsearchcv_and_transformed_target_reg(name=model.__class__.__name__, model=model, X=X_train, y=y_train);"
   ]
  },
  {
   "cell_type": "markdown",
   "id": "ecf194e8-c3f8-4bab-9b19-eed249da358c",
   "metadata": {},
   "source": [
    "### Training and avaluating models with Gridsearch using train set**"
   ]
  },
  {
   "cell_type": "code",
   "execution_count": 89,
   "id": "8bc5262d-f972-4e8d-84fc-246377a779e8",
   "metadata": {
    "tags": []
   },
   "outputs": [],
   "source": [
    "def model_training_with_gridsearchcv(name, model, X, y):\n",
    "    grid = GridSearchCV(estimator=model, param_grid={}, scoring=scoring, cv=cv, return_train_score=True,verbose=0, n_jobs=None)                         \n",
    "    grid.fit(X, y)\n",
    "    # predictions = grid.predict(X)\n",
    "    grid_score = grid.cv_results_['mean_train_score']\n",
    "    grid_rmse = np.sqrt(-grid_score)\n",
    "    # grid_score = grid.best_estimator_.score(X, y)\n",
    "    print('——————————————————————————————————————————————————————')\n",
    "\n",
    "    print(name, grid_rmse)\n",
    "    print('GridCVMean: ', grid_score)\n",
    "    return grid_score;"
   ]
  },
  {
   "cell_type": "code",
   "execution_count": 90,
   "id": "515bd8d1-7273-4bdd-aafe-25dd94e33e3d",
   "metadata": {},
   "outputs": [
    {
     "name": "stdout",
     "output_type": "stream",
     "text": [
      "——————————————————————————————————————————————————————\n",
      "XGBRegressor [26568.95719933]\n",
      "GridCVMean:  [-7.05909487e+08]\n",
      "——————————————————————————————————————————————————————\n",
      "RandomForestRegressor [18900.5865688]\n",
      "GridCVMean:  [-3.57232173e+08]\n"
     ]
    }
   ],
   "source": [
    "models = [XGBRegressor(), RandomForestRegressor(random_state=seed)]\n",
    "\n",
    "for model in models:\n",
    "    model_training_with_gridsearchcv(name=model.__class__.__name__, model=model, X=X_train, y=y_train);\n",
    "    "
   ]
  },
  {
   "cell_type": "code",
   "execution_count": 91,
   "id": "d18d01fe-b832-47ce-922a-24bafec43503",
   "metadata": {
    "tags": []
   },
   "outputs": [],
   "source": [
    "# def model_training_with_gridsearchcv(name, model, X, y):\n",
    "#     grid = GridSearchCV(estimator=model, param_grid={}, scoring='r2', cv=cv, return_train_score=True,verbose=0, n_jobs=None)                         \n",
    "#     grid.fit(X, y)\n",
    "#     # predictions = grid.predict(X)\n",
    "#     grid_score = grid.cv_results_['mean_train_score']\n",
    "#     # grid_rmse = np.sqrt(-grid_score)\n",
    "#     # grid_score = grid.best_estimator_.score(X, y)\n",
    "#     print(name, grid_score)\n",
    "#     return grid_score;"
   ]
  },
  {
   "cell_type": "code",
   "execution_count": 92,
   "id": "1f9194bf-183c-435d-bd4c-6ec3c0a966c7",
   "metadata": {
    "tags": []
   },
   "outputs": [],
   "source": [
    "# models = [LinearRegression(), DecisionTreeRegressor(random_state=seed), SVR(), GradientBoostingRegressor(random_state=seed),         XGBRegressor(), XGBRFRegressor(), ExtraTreeRegressor(random_state=seed),KNeighborsRegressor(), RandomForestRegressor(random_state=seed), Lasso(), Ridge()]\n",
    "\n",
    "# for model in models:\n",
    "#     model_training_with_gridsearchcv(name=model.__class__.__name__, model=model, X=X_train, y=y_train);"
   ]
  },
  {
   "cell_type": "code",
   "execution_count": 93,
   "id": "4e8dafcb-460d-4073-95c9-13f8e86069d4",
   "metadata": {},
   "outputs": [],
   "source": [
    "# Feature importance\n",
    "from yellowbrick.model_selection import FeatureImportances\n",
    "def feature_importance(model_name, X, y):\n",
    "    model = model_name()\n",
    "    viz = FeatureImportances(model)\n",
    "    viz.fit(X, y)\n",
    "    viz.show()\n",
    "    return feature_importance\n",
    "\n",
    "# Based on similar results, inflation(%) is dropped."
   ]
  },
  {
   "cell_type": "code",
   "execution_count": 94,
   "id": "4932c338-c4a7-48ac-9900-31113ca9425e",
   "metadata": {},
   "outputs": [
    {
     "data": {
      "image/png": "[encoded data removed]",
      "text/plain": [
       "<Figure size 576x396 with 1 Axes>"
      ]
     },
     "metadata": {},
     "output_type": "display_data"
    }
   ],
   "source": [
    "model_list = [RandomForestRegressor]\n",
    "for model_name in model_list:\n",
    "    feature_importance(model_name=model_name, X=X_train, y=y_train)"
   ]
  },
  {
   "cell_type": "markdown",
   "id": "e9ff5bee-f0b1-47af-aac1-a405d7067e48",
   "metadata": {},
   "source": [
    "#### Next steps\n",
    "* Outlier check(**Done**)\n",
    "* Skewness\n",
    "* missing values(**Done in the pipeline**)\n",
    "* feature engineering\n",
    "* multicollinearity check\n",
    "* VIF test"
   ]
  },
  {
   "cell_type": "code",
   "execution_count": 95,
   "id": "a73121e9-7c3c-4e82-99ed-640bf22c1100",
   "metadata": {},
   "outputs": [],
   "source": [
    "from scipy.stats import randint\n",
    "\n",
    "# Number of trees used in the boosting process\n",
    "n_estimators = randint(low=100, high=1000)\n",
    "\n",
    "# Maximum depth of each tree\n",
    "max_depth = [int(x) for x in np.linspace(20, 40, 15)]\n",
    "max_depth.append(None)\n",
    "\n",
    "# Minimum number of samples per leaf\n",
    "min_samples_leaf = randint(low=1, high=3)\n",
    "\n",
    "# Minimum number of samples to split a node\n",
    "min_samples_split = [int(x) for x in np.arange(2, 4, 2)]\n",
    "\n",
    "# Maximum number of features to consider for making splits\n",
    "max_features = randint(low=1, high=8)\n",
    "\n",
    "# Minimum number of impurities to consider\n",
    "# min_impurity_decrease = [1e-5,1e-4,1e-3,1e-2,1e-1,0,1,10] # Ideal for Extratree Regressor\n",
    "\n",
    "# Method of selecting samples for training each tree\n",
    "# bootstrap = [True, False]\n",
    "bootstrap = [True, False]\n",
    "\n",
    "# Define the grid of hyperparameters to search\n",
    "hyperparameter_grid = {'n_estimators': n_estimators,\n",
    "                       'max_depth': max_depth,\n",
    "                       'min_samples_leaf': min_samples_leaf,\n",
    "                       'min_samples_split': min_samples_split,\n",
    "                       'max_features': max_features,\n",
    "                       # 'min_impurity_decrease': min_impurity_decrease,\n",
    "                       'bootstrap': bootstrap\n",
    "                      }"
   ]
  },
  {
   "cell_type": "code",
   "execution_count": 96,
   "id": "16cabcaf-986e-450c-80f5-097e2d38c0cc",
   "metadata": {},
   "outputs": [
    {
     "data": {
      "text/plain": [
       "RandomizedSearchCV(cv=KFold(n_splits=5, random_state=42, shuffle=True),\n",
       "                   estimator=RandomForestRegressor(),\n",
       "                   param_distributions={'bootstrap': [True, False],\n",
       "                                        'max_depth': [20, 21, 22, 24, 25, 27,\n",
       "                                                      28, 30, 31, 32, 34, 35,\n",
       "                                                      37, 38, 40, None],\n",
       "                                        'max_features': <scipy.stats._distn_infrastructure.rv_frozen object at 0x000001A40EC9F220>,\n",
       "                                        'min_samples_leaf': <scipy.stats._distn_infrastructure.rv_frozen object at 0x000001A40EC9FE20>,\n",
       "                                        'min_samples_split': [2],\n",
       "                                        'n_estimators': <scipy.stats._distn_infrastructure.rv_frozen object at 0x000001A40EC9FB50>},\n",
       "                   random_state=42, return_train_score=True,\n",
       "                   scoring='neg_mean_squared_error')"
      ]
     },
     "execution_count": 96,
     "metadata": {},
     "output_type": "execute_result"
    }
   ],
   "source": [
    "# Use the random grid to search to find optimal hyperparameters\n",
    "# First create the baseline model to tune\n",
    "rf = RandomForestRegressor()\n",
    "# Random search of parameters, using 3 fold cross validation,\n",
    "# search across 100 different combinations, and use all available cores\n",
    "rf_random = RandomizedSearchCV(estimator=rf,\n",
    "                               param_distributions=hyperparameter_grid,\n",
    "                               n_iter=10,\n",
    "                               scoring=scoring,\n",
    "                               cv=cv,\n",
    "                               verbose=0,\n",
    "                               random_state=seed,\n",
    "                               n_jobs=None,\n",
    "                               return_train_score=True)\n",
    "\n",
    "# Fit the random search model\n",
    "rf_random.fit(X_train, y_train)"
   ]
  },
  {
   "cell_type": "code",
   "execution_count": 97,
   "id": "0179c293-273f-4fac-82bd-91b6ffa2058b",
   "metadata": {},
   "outputs": [
    {
     "data": {
      "text/plain": [
       "{'bootstrap': False,\n",
       " 'max_depth': 38,\n",
       " 'max_features': 7,\n",
       " 'min_samples_leaf': 2,\n",
       " 'min_samples_split': 2,\n",
       " 'n_estimators': 662}"
      ]
     },
     "execution_count": 97,
     "metadata": {},
     "output_type": "execute_result"
    }
   ],
   "source": [
    "rf_random.best_params_"
   ]
  },
  {
   "cell_type": "markdown",
   "id": "2006b6bb-d802-46f0-9f56-4fdc101d3e1e",
   "metadata": {},
   "source": [
    "Scikit-learn uses the negative mean absolute error for evaluation because it wants a metric to maximize. Therefore, a better score will be closer to 0. We can get the results of the randomized search into a dataframe, and sort the values by performance.\n"
   ]
  },
  {
   "cell_type": "code",
   "execution_count": 98,
   "id": "640f2d66-3a4d-4a65-9171-9601133b6ee8",
   "metadata": {},
   "outputs": [
    {
     "data": {
      "text/html": [
       "<div>\n",
       "<style scoped>\n",
       "    .dataframe tbody tr th:only-of-type {\n",
       "        vertical-align: middle;\n",
       "    }\n",
       "\n",
       "    .dataframe tbody tr th {\n",
       "        vertical-align: top;\n",
       "    }\n",
       "\n",
       "    .dataframe thead th {\n",
       "        text-align: right;\n",
       "    }\n",
       "</style>\n",
       "<table border=\"1\" class=\"dataframe\">\n",
       "  <thead>\n",
       "    <tr style=\"text-align: right;\">\n",
       "      <th></th>\n",
       "      <th>mean_fit_time</th>\n",
       "      <th>std_fit_time</th>\n",
       "      <th>mean_score_time</th>\n",
       "      <th>std_score_time</th>\n",
       "      <th>param_bootstrap</th>\n",
       "      <th>param_max_depth</th>\n",
       "      <th>param_max_features</th>\n",
       "      <th>param_min_samples_leaf</th>\n",
       "      <th>param_min_samples_split</th>\n",
       "      <th>param_n_estimators</th>\n",
       "      <th>...</th>\n",
       "      <th>mean_test_score</th>\n",
       "      <th>std_test_score</th>\n",
       "      <th>rank_test_score</th>\n",
       "      <th>split0_train_score</th>\n",
       "      <th>split1_train_score</th>\n",
       "      <th>split2_train_score</th>\n",
       "      <th>split3_train_score</th>\n",
       "      <th>split4_train_score</th>\n",
       "      <th>mean_train_score</th>\n",
       "      <th>std_train_score</th>\n",
       "    </tr>\n",
       "  </thead>\n",
       "  <tbody>\n",
       "    <tr>\n",
       "      <th>9</th>\n",
       "      <td>38.254028</td>\n",
       "      <td>0.910608</td>\n",
       "      <td>0.580458</td>\n",
       "      <td>0.096170</td>\n",
       "      <td>False</td>\n",
       "      <td>38</td>\n",
       "      <td>7</td>\n",
       "      <td>2</td>\n",
       "      <td>2</td>\n",
       "      <td>662</td>\n",
       "      <td>...</td>\n",
       "      <td>-2.488296e+09</td>\n",
       "      <td>1.142881e+08</td>\n",
       "      <td>1</td>\n",
       "      <td>-1.211353e+08</td>\n",
       "      <td>-1.175079e+08</td>\n",
       "      <td>-1.234168e+08</td>\n",
       "      <td>-1.134987e+08</td>\n",
       "      <td>-1.189879e+08</td>\n",
       "      <td>-1.189093e+08</td>\n",
       "      <td>3.362060e+06</td>\n",
       "    </tr>\n",
       "    <tr>\n",
       "      <th>6</th>\n",
       "      <td>49.028581</td>\n",
       "      <td>0.637636</td>\n",
       "      <td>0.941500</td>\n",
       "      <td>0.066571</td>\n",
       "      <td>False</td>\n",
       "      <td>32</td>\n",
       "      <td>6</td>\n",
       "      <td>1</td>\n",
       "      <td>2</td>\n",
       "      <td>847</td>\n",
       "      <td>...</td>\n",
       "      <td>-2.517856e+09</td>\n",
       "      <td>1.258486e+08</td>\n",
       "      <td>2</td>\n",
       "      <td>-1.822318e+02</td>\n",
       "      <td>-6.008303e+01</td>\n",
       "      <td>-9.678030e+01</td>\n",
       "      <td>-1.596625e+02</td>\n",
       "      <td>-6.306479e+01</td>\n",
       "      <td>-1.123645e+02</td>\n",
       "      <td>5.005042e+01</td>\n",
       "    </tr>\n",
       "    <tr>\n",
       "      <th>1</th>\n",
       "      <td>11.125363</td>\n",
       "      <td>0.317648</td>\n",
       "      <td>0.246604</td>\n",
       "      <td>0.027020</td>\n",
       "      <td>False</td>\n",
       "      <td>37</td>\n",
       "      <td>5</td>\n",
       "      <td>1</td>\n",
       "      <td>2</td>\n",
       "      <td>221</td>\n",
       "      <td>...</td>\n",
       "      <td>-2.566852e+09</td>\n",
       "      <td>1.268165e+08</td>\n",
       "      <td>3</td>\n",
       "      <td>-1.072924e+00</td>\n",
       "      <td>-5.767252e+00</td>\n",
       "      <td>-1.754490e+01</td>\n",
       "      <td>-3.569062e-01</td>\n",
       "      <td>-6.667244e+00</td>\n",
       "      <td>-6.281846e+00</td>\n",
       "      <td>6.156420e+00</td>\n",
       "    </tr>\n",
       "    <tr>\n",
       "      <th>8</th>\n",
       "      <td>30.686221</td>\n",
       "      <td>0.631444</td>\n",
       "      <td>0.670725</td>\n",
       "      <td>0.008291</td>\n",
       "      <td>False</td>\n",
       "      <td>None</td>\n",
       "      <td>4</td>\n",
       "      <td>2</td>\n",
       "      <td>2</td>\n",
       "      <td>882</td>\n",
       "      <td>...</td>\n",
       "      <td>-2.599762e+09</td>\n",
       "      <td>1.222287e+08</td>\n",
       "      <td>4</td>\n",
       "      <td>-1.784631e+08</td>\n",
       "      <td>-1.756308e+08</td>\n",
       "      <td>-1.823934e+08</td>\n",
       "      <td>-1.708429e+08</td>\n",
       "      <td>-1.774914e+08</td>\n",
       "      <td>-1.769643e+08</td>\n",
       "      <td>3.774870e+06</td>\n",
       "    </tr>\n",
       "    <tr>\n",
       "      <th>4</th>\n",
       "      <td>32.629208</td>\n",
       "      <td>0.464766</td>\n",
       "      <td>0.737817</td>\n",
       "      <td>0.067838</td>\n",
       "      <td>False</td>\n",
       "      <td>30</td>\n",
       "      <td>4</td>\n",
       "      <td>2</td>\n",
       "      <td>2</td>\n",
       "      <td>905</td>\n",
       "      <td>...</td>\n",
       "      <td>-2.601280e+09</td>\n",
       "      <td>1.152069e+08</td>\n",
       "      <td>5</td>\n",
       "      <td>-1.783244e+08</td>\n",
       "      <td>-1.756015e+08</td>\n",
       "      <td>-1.832846e+08</td>\n",
       "      <td>-1.711000e+08</td>\n",
       "      <td>-1.789930e+08</td>\n",
       "      <td>-1.774607e+08</td>\n",
       "      <td>4.023114e+06</td>\n",
       "    </tr>\n",
       "    <tr>\n",
       "      <th>5</th>\n",
       "      <td>10.931671</td>\n",
       "      <td>0.249137</td>\n",
       "      <td>0.274959</td>\n",
       "      <td>0.003550</td>\n",
       "      <td>False</td>\n",
       "      <td>None</td>\n",
       "      <td>4</td>\n",
       "      <td>1</td>\n",
       "      <td>2</td>\n",
       "      <td>260</td>\n",
       "      <td>...</td>\n",
       "      <td>-2.602461e+09</td>\n",
       "      <td>1.276684e+08</td>\n",
       "      <td>6</td>\n",
       "      <td>-6.555464e+00</td>\n",
       "      <td>-5.743238e+00</td>\n",
       "      <td>-3.383802e+01</td>\n",
       "      <td>-7.208901e+00</td>\n",
       "      <td>-3.785672e+01</td>\n",
       "      <td>-1.824047e+01</td>\n",
       "      <td>1.443951e+01</td>\n",
       "    </tr>\n",
       "    <tr>\n",
       "      <th>0</th>\n",
       "      <td>6.335652</td>\n",
       "      <td>0.077538</td>\n",
       "      <td>0.196494</td>\n",
       "      <td>0.039547</td>\n",
       "      <td>True</td>\n",
       "      <td>24</td>\n",
       "      <td>5</td>\n",
       "      <td>1</td>\n",
       "      <td>2</td>\n",
       "      <td>206</td>\n",
       "      <td>...</td>\n",
       "      <td>-2.660422e+09</td>\n",
       "      <td>1.198209e+08</td>\n",
       "      <td>7</td>\n",
       "      <td>-3.747317e+08</td>\n",
       "      <td>-3.659786e+08</td>\n",
       "      <td>-3.755684e+08</td>\n",
       "      <td>-3.613587e+08</td>\n",
       "      <td>-3.724045e+08</td>\n",
       "      <td>-3.700084e+08</td>\n",
       "      <td>5.477608e+06</td>\n",
       "    </tr>\n",
       "    <tr>\n",
       "      <th>7</th>\n",
       "      <td>12.233585</td>\n",
       "      <td>0.176523</td>\n",
       "      <td>0.496003</td>\n",
       "      <td>0.003365</td>\n",
       "      <td>True</td>\n",
       "      <td>20</td>\n",
       "      <td>3</td>\n",
       "      <td>1</td>\n",
       "      <td>2</td>\n",
       "      <td>610</td>\n",
       "      <td>...</td>\n",
       "      <td>-2.778927e+09</td>\n",
       "      <td>1.269653e+08</td>\n",
       "      <td>8</td>\n",
       "      <td>-4.202867e+08</td>\n",
       "      <td>-4.123910e+08</td>\n",
       "      <td>-4.146674e+08</td>\n",
       "      <td>-4.038262e+08</td>\n",
       "      <td>-4.181621e+08</td>\n",
       "      <td>-4.138667e+08</td>\n",
       "      <td>5.714856e+06</td>\n",
       "    </tr>\n",
       "    <tr>\n",
       "      <th>2</th>\n",
       "      <td>3.906736</td>\n",
       "      <td>0.108812</td>\n",
       "      <td>0.178903</td>\n",
       "      <td>0.031843</td>\n",
       "      <td>True</td>\n",
       "      <td>28</td>\n",
       "      <td>3</td>\n",
       "      <td>1</td>\n",
       "      <td>2</td>\n",
       "      <td>187</td>\n",
       "      <td>...</td>\n",
       "      <td>-2.785453e+09</td>\n",
       "      <td>1.288397e+08</td>\n",
       "      <td>9</td>\n",
       "      <td>-3.927974e+08</td>\n",
       "      <td>-3.817954e+08</td>\n",
       "      <td>-3.925193e+08</td>\n",
       "      <td>-3.774710e+08</td>\n",
       "      <td>-3.919069e+08</td>\n",
       "      <td>-3.872980e+08</td>\n",
       "      <td>6.412415e+06</td>\n",
       "    </tr>\n",
       "    <tr>\n",
       "      <th>3</th>\n",
       "      <td>7.151181</td>\n",
       "      <td>0.103104</td>\n",
       "      <td>0.264787</td>\n",
       "      <td>0.002497</td>\n",
       "      <td>True</td>\n",
       "      <td>24</td>\n",
       "      <td>3</td>\n",
       "      <td>2</td>\n",
       "      <td>2</td>\n",
       "      <td>408</td>\n",
       "      <td>...</td>\n",
       "      <td>-2.815494e+09</td>\n",
       "      <td>1.264584e+08</td>\n",
       "      <td>10</td>\n",
       "      <td>-8.742347e+08</td>\n",
       "      <td>-8.533233e+08</td>\n",
       "      <td>-8.711442e+08</td>\n",
       "      <td>-8.435454e+08</td>\n",
       "      <td>-8.676193e+08</td>\n",
       "      <td>-8.619734e+08</td>\n",
       "      <td>1.166820e+07</td>\n",
       "    </tr>\n",
       "  </tbody>\n",
       "</table>\n",
       "<p>10 rows × 26 columns</p>\n",
       "</div>"
      ],
      "text/plain": [
       "   mean_fit_time  std_fit_time  mean_score_time  std_score_time  \\\n",
       "9      38.254028      0.910608         0.580458        0.096170   \n",
       "6      49.028581      0.637636         0.941500        0.066571   \n",
       "1      11.125363      0.317648         0.246604        0.027020   \n",
       "8      30.686221      0.631444         0.670725        0.008291   \n",
       "4      32.629208      0.464766         0.737817        0.067838   \n",
       "5      10.931671      0.249137         0.274959        0.003550   \n",
       "0       6.335652      0.077538         0.196494        0.039547   \n",
       "7      12.233585      0.176523         0.496003        0.003365   \n",
       "2       3.906736      0.108812         0.178903        0.031843   \n",
       "3       7.151181      0.103104         0.264787        0.002497   \n",
       "\n",
       "  param_bootstrap param_max_depth param_max_features param_min_samples_leaf  \\\n",
       "9           False              38                  7                      2   \n",
       "6           False              32                  6                      1   \n",
       "1           False              37                  5                      1   \n",
       "8           False            None                  4                      2   \n",
       "4           False              30                  4                      2   \n",
       "5           False            None                  4                      1   \n",
       "0            True              24                  5                      1   \n",
       "7            True              20                  3                      1   \n",
       "2            True              28                  3                      1   \n",
       "3            True              24                  3                      2   \n",
       "\n",
       "  param_min_samples_split param_n_estimators  ... mean_test_score  \\\n",
       "9                       2                662  ...   -2.488296e+09   \n",
       "6                       2                847  ...   -2.517856e+09   \n",
       "1                       2                221  ...   -2.566852e+09   \n",
       "8                       2                882  ...   -2.599762e+09   \n",
       "4                       2                905  ...   -2.601280e+09   \n",
       "5                       2                260  ...   -2.602461e+09   \n",
       "0                       2                206  ...   -2.660422e+09   \n",
       "7                       2                610  ...   -2.778927e+09   \n",
       "2                       2                187  ...   -2.785453e+09   \n",
       "3                       2                408  ...   -2.815494e+09   \n",
       "\n",
       "   std_test_score  rank_test_score  split0_train_score  split1_train_score  \\\n",
       "9    1.142881e+08                1       -1.211353e+08       -1.175079e+08   \n",
       "6    1.258486e+08                2       -1.822318e+02       -6.008303e+01   \n",
       "1    1.268165e+08                3       -1.072924e+00       -5.767252e+00   \n",
       "8    1.222287e+08                4       -1.784631e+08       -1.756308e+08   \n",
       "4    1.152069e+08                5       -1.783244e+08       -1.756015e+08   \n",
       "5    1.276684e+08                6       -6.555464e+00       -5.743238e+00   \n",
       "0    1.198209e+08                7       -3.747317e+08       -3.659786e+08   \n",
       "7    1.269653e+08                8       -4.202867e+08       -4.123910e+08   \n",
       "2    1.288397e+08                9       -3.927974e+08       -3.817954e+08   \n",
       "3    1.264584e+08               10       -8.742347e+08       -8.533233e+08   \n",
       "\n",
       "   split2_train_score  split3_train_score  split4_train_score  \\\n",
       "9       -1.234168e+08       -1.134987e+08       -1.189879e+08   \n",
       "6       -9.678030e+01       -1.596625e+02       -6.306479e+01   \n",
       "1       -1.754490e+01       -3.569062e-01       -6.667244e+00   \n",
       "8       -1.823934e+08       -1.708429e+08       -1.774914e+08   \n",
       "4       -1.832846e+08       -1.711000e+08       -1.789930e+08   \n",
       "5       -3.383802e+01       -7.208901e+00       -3.785672e+01   \n",
       "0       -3.755684e+08       -3.613587e+08       -3.724045e+08   \n",
       "7       -4.146674e+08       -4.038262e+08       -4.181621e+08   \n",
       "2       -3.925193e+08       -3.774710e+08       -3.919069e+08   \n",
       "3       -8.711442e+08       -8.435454e+08       -8.676193e+08   \n",
       "\n",
       "   mean_train_score  std_train_score  \n",
       "9     -1.189093e+08     3.362060e+06  \n",
       "6     -1.123645e+02     5.005042e+01  \n",
       "1     -6.281846e+00     6.156420e+00  \n",
       "8     -1.769643e+08     3.774870e+06  \n",
       "4     -1.774607e+08     4.023114e+06  \n",
       "5     -1.824047e+01     1.443951e+01  \n",
       "0     -3.700084e+08     5.477608e+06  \n",
       "7     -4.138667e+08     5.714856e+06  \n",
       "2     -3.872980e+08     6.412415e+06  \n",
       "3     -8.619734e+08     1.166820e+07  \n",
       "\n",
       "[10 rows x 26 columns]"
      ]
     },
     "execution_count": 98,
     "metadata": {},
     "output_type": "execute_result"
    }
   ],
   "source": [
    "# Get all of the cv results and sort by the test performance\n",
    "random_results = pd.DataFrame(rf_random.cv_results_).sort_values('mean_test_score', ascending = False)\n",
    "\n",
    "random_results.head(10)"
   ]
  },
  {
   "cell_type": "code",
   "execution_count": 99,
   "id": "4077d7b4-195e-4e5c-a7d8-caf065969732",
   "metadata": {},
   "outputs": [
    {
     "data": {
      "text/plain": [
       "RandomForestRegressor(bootstrap=False, max_depth=38, max_features=7,\n",
       "                      min_samples_leaf=2, n_estimators=662)"
      ]
     },
     "execution_count": 99,
     "metadata": {},
     "output_type": "execute_result"
    }
   ],
   "source": [
    "# outputs the best estimator for the prediction\n",
    "rf_random.best_estimator_"
   ]
  },
  {
   "cell_type": "markdown",
   "id": "561cc976-a2c0-4c40-a881-b04d0c4b07ff",
   "metadata": {},
   "source": [
    "**Evaluation Function**     \n",
    "\n",
    "*To determine if random search yielded a better model, i compare the base model with the best random search model results.* \n",
    "\n",
    "*Evaluate Random Search To determine if random search yielded a better model, we compare the base model with the best random search model.*"
   ]
  },
  {
   "cell_type": "code",
   "execution_count": 100,
   "id": "6816447c-9a77-4d7d-8d59-eedf468599fd",
   "metadata": {
    "jupyter": {
     "source_hidden": true
    },
    "tags": []
   },
   "outputs": [],
   "source": [
    "# # Evaluates the randomized search\n",
    "# def evaluate(model, X_test, y_test):\n",
    "#     predictions = model.predict(X_test)\n",
    "#     errors = abs(predictions - y_test)  # Prediction errors\n",
    "\n",
    "#     mape = 100 * np.mean(errors / y_test)\n",
    "#     accuracy = 100 - mape\n",
    "#     # score = model.score(normalized_x_test, y_test)\n",
    "#     print('Model Performance')\n",
    "#     print('..............................')\n",
    "\n",
    "#     print('Average Error: {:0.4f} degrees.'.format(np.mean(errors)))\n",
    "#     print('Accuracy = {:0.2f}%.'.format(accuracy))\n",
    "#     # print('Prediction_Score = {:.2f}.'.format(score))\n",
    "\n",
    "#     return accuracy"
   ]
  },
  {
   "cell_type": "code",
   "execution_count": null,
   "id": "d1d78d94-03c9-4a5a-a69f-b61ada4bfa06",
   "metadata": {},
   "outputs": [],
   "source": []
  },
  {
   "cell_type": "markdown",
   "id": "27eb84b6-97bd-4654-8d89-6cbd7287ac91",
   "metadata": {},
   "source": [
    "**Set and evaluate Baseline Model**"
   ]
  },
  {
   "cell_type": "code",
   "execution_count": 101,
   "id": "63404dcc-93c6-4136-ac70-242d263f7113",
   "metadata": {},
   "outputs": [
    {
     "name": "stdout",
     "output_type": "stream",
     "text": [
      "Model train score =  97.411 %\n"
     ]
    }
   ],
   "source": [
    "# Evaluates the baseline model against the randomized search\n",
    "base_model = RandomForestRegressor(n_estimators=100, random_state=seed, verbose=0)\n",
    "base_model.fit(X_train, y_train)\n",
    "base_accuracy = base_model.score(X_train, y_train)\n",
    "\n",
    "print('Model train score = ', round(base_accuracy*100,3),'%')"
   ]
  },
  {
   "cell_type": "markdown",
   "id": "b712501c-ea5e-404d-bc4e-6f51242abd1b",
   "metadata": {},
   "source": [
    "**Evaluate the Random Search Model**"
   ]
  },
  {
   "cell_type": "code",
   "execution_count": 102,
   "id": "2ca05b98-fd33-4b15-8b75-382fd9c7c165",
   "metadata": {},
   "outputs": [
    {
     "name": "stdout",
     "output_type": "stream",
     "text": [
      "Score_random_search =  99.1 %\n"
     ]
    }
   ],
   "source": [
    "# Randomizedsearch model\n",
    "best_random = rf_random.best_estimator_\n",
    "best_random = rf_random.best_estimator_.score(X_train, y_train)\n",
    "print('Score_random_search = ', round(best_random,3)*100,'%')"
   ]
  },
  {
   "cell_type": "code",
   "execution_count": 103,
   "id": "5dd4c56c-84be-40ba-97da-56824592a289",
   "metadata": {},
   "outputs": [
    {
     "name": "stdout",
     "output_type": "stream",
     "text": [
      "RandomForestRegressor(bootstrap=False, max_depth=38, max_features=7,\n",
      "                      min_samples_leaf=2, n_estimators=662)\n"
     ]
    }
   ],
   "source": [
    "pprint(rf_random.best_estimator_)"
   ]
  },
  {
   "cell_type": "code",
   "execution_count": 104,
   "id": "a3c6d829-b183-4de3-adb7-bb55d25bd049",
   "metadata": {},
   "outputs": [
    {
     "name": "stdout",
     "output_type": "stream",
     "text": [
      "Improvement of 1.77%.\n"
     ]
    }
   ],
   "source": [
    "print('Improvement of {:0.2f}%.'.format(\n",
    "    100 * (best_random - base_accuracy) / base_accuracy))"
   ]
  },
  {
   "cell_type": "code",
   "execution_count": null,
   "id": "6ea75854-ee13-4b2e-91be-9e337656126e",
   "metadata": {},
   "outputs": [],
   "source": []
  },
  {
   "cell_type": "markdown",
   "id": "e5b9c27a-48af-4505-86b3-e50941133370",
   "metadata": {},
   "source": [
    "**GridSearchCV1**"
   ]
  },
  {
   "cell_type": "code",
   "execution_count": null,
   "id": "690557e6-5490-42c9-8d14-315272d27534",
   "metadata": {},
   "outputs": [],
   "source": []
  },
  {
   "cell_type": "code",
   "execution_count": null,
   "id": "b563be23-ca54-4df4-844c-abf115f56317",
   "metadata": {},
   "outputs": [],
   "source": [
    "\n",
    "\n",
    "\n",
    "\n",
    "\n",
    "\n",
    "\n",
    "\n",
    "\n",
    "\n",
    "\n",
    "\n",
    "\n",
    "\n",
    "\n",
    "\n",
    "\n",
    "\n",
    "\n",
    "\n",
    "\n"
   ]
  },
  {
   "cell_type": "markdown",
   "id": "89bc480c",
   "metadata": {},
   "source": [
    "### Randomized Search\n"
   ]
  },
  {
   "cell_type": "code",
   "execution_count": null,
   "id": "83ddc1d7",
   "metadata": {},
   "outputs": [],
   "source": [
    "fom sklearn.model_selection import RandomizedSearchCV\n",
    "from scipy.stats import randint\n",
    "\n",
    "param_distribs = {\n",
    "        'n_estimators': randint(low=1, high=200),\n",
    "        'max_features': randint(low=1, high=8),\n",
    "    }\n",
    "\n",
    "forest_reg = RandomForestRegressor(random_state=42)\n",
    "rnd_search = RandomizedSearchCV(forest_reg, param_distributions=param_distribs,\n",
    "                                n_iter=10, cv=5, scoring='neg_mean_squared_error', random_state=42)\n",
    "rnd_search.fit(housing_prepared, housing_labels)"
   ]
  },
  {
   "cell_type": "code",
   "execution_count": null,
   "id": "50a1114b",
   "metadata": {},
   "outputs": [],
   "source": [
    "cvres = rnd_search.cv_results_\n",
    "for mean_score, params in zip(cvres[\"mean_test_score\"], cvres[\"params\"]):\n",
    "    print(np.sqrt(-mean_score), params)"
   ]
  },
  {
   "cell_type": "code",
   "execution_count": null,
   "id": "12fbb24c",
   "metadata": {},
   "outputs": [],
   "source": []
  },
  {
   "cell_type": "markdown",
   "id": "9e7b2ab5",
   "metadata": {
    "ExecuteTime": {
     "end_time": "2022-05-12T16:36:05.723541Z",
     "start_time": "2022-05-12T16:36:05.717591Z"
    }
   },
   "source": [
    "### GridSearch"
   ]
  },
  {
   "cell_type": "code",
   "execution_count": null,
   "id": "b374e007",
   "metadata": {},
   "outputs": [],
   "source": [
    "from sklearn.model_selection import GridSearchCV\n",
    "param_grid = [\n",
    "            {'n_estimators': [3, 10, 30], 'max_features': [2, 4, 6, 8]},\n",
    "            {'bootstrap': [False], 'n_estimators': [3, 10], 'max_features': [2, 3, 4]},\n",
    "            ]\n",
    "forest_reg = RandomForestRegressor()\n",
    "grid_search = GridSearchCV(forest_reg, param_grid, cv=5,\n",
    "scoring='neg_mean_squared_error',\n",
    "return_train_score=True)\n",
    "grid_search.fit(housing_prepared, housing_labels)"
   ]
  },
  {
   "cell_type": "code",
   "execution_count": null,
   "id": "4ac60821",
   "metadata": {},
   "outputs": [],
   "source": [
    "grid_search.best_params_"
   ]
  },
  {
   "cell_type": "code",
   "execution_count": null,
   "id": "72724f3b",
   "metadata": {},
   "outputs": [],
   "source": [
    "grid_search.best_estimator_"
   ]
  },
  {
   "cell_type": "code",
   "execution_count": null,
   "id": "7181589d",
   "metadata": {},
   "outputs": [],
   "source": [
    "cvres = grid_search.cv_results_\n",
    "for mean_score, params in zip(cvres[\"mean_test_score\"], cvres[\"params\"]):\n",
    "    print(np.sqrt(-mean_score), params)"
   ]
  },
  {
   "cell_type": "markdown",
   "id": "07b8c1c7",
   "metadata": {
    "ExecuteTime": {
     "end_time": "2022-05-12T16:39:18.556541Z",
     "start_time": "2022-05-12T16:39:18.550545Z"
    }
   },
   "source": [
    "### Analyzing best models and their errors "
   ]
  },
  {
   "cell_type": "code",
   "execution_count": null,
   "id": "263e92a5",
   "metadata": {},
   "outputs": [],
   "source": [
    "feature_importances = grid_search.best_estimator_.feature_importances_\n",
    "feature_importances"
   ]
  },
  {
   "cell_type": "markdown",
   "id": "dd04cf20",
   "metadata": {},
   "source": [
    "### Feature importance scores next to their corresponding attribute names:\n"
   ]
  },
  {
   "cell_type": "code",
   "execution_count": null,
   "id": "e9d01c19",
   "metadata": {},
   "outputs": [],
   "source": [
    "extra_attribs = [\"rooms_per_hhold\", \"pop_per_hhold\", \"bedrooms_per_room\"] # Engineered features\n",
    "cat_encoder = full_pipeline.named_transformers_[\"cat\"]\n",
    "cat_one_hot_attribs = list(cat_encoder.categories_[0])\n",
    "attributes = num_attribs + extra_attribs + cat_one_hot_attribs\n",
    "sorted(zip(feature_importances, attributes), reverse=True)"
   ]
  },
  {
   "cell_type": "markdown",
   "id": "b514055a",
   "metadata": {},
   "source": [
    "With this information, you may want to try dropping some of the less useful features\n",
    "(e.g., apparently only one ocean_proximity category is really useful, so you could try\n",
    "dropping the others).\n",
    "You should also look at the specific errors that your system makes, then try to under‐\n",
    "stand why it makes them and what could fix the problem (adding extra features or\n",
    "getting rid of uninformative ones, cleaning up outliers, etc.)"
   ]
  },
  {
   "cell_type": "code",
   "execution_count": null,
   "id": "62b4c175",
   "metadata": {},
   "outputs": [],
   "source": [
    "full_pipeline_with_predictor = Pipeline([\n",
    "                                        (\"preparation\", full_pipeline),\n",
    "                                        (\"linear\", LinearRegression())\n",
    "                                    ])\n",
    "\n",
    "full_pipeline_with_predictor.fit(housing, housing_labels)\n",
    "full_pipeline_with_predictor.predict(some_data)"
   ]
  }
 ],
 "metadata": {
  "hide_input": false,
  "kernelspec": {
   "display_name": "DataScience",
   "language": "python",
   "name": "datascience"
  },
  "language_info": {
   "codemirror_mode": {
    "name": "ipython",
    "version": 3
   },
   "file_extension": ".py",
   "mimetype": "text/x-python",
   "name": "python",
   "nbconvert_exporter": "python",
   "pygments_lexer": "ipython3",
   "version": "3.9.7"
  },
  "latex_envs": {
   "LaTeX_envs_menu_present": true,
   "autoclose": false,
   "autocomplete": true,
   "bibliofile": "biblio.bib",
   "cite_by": "apalike",
   "current_citInitial": 1,
   "eqLabelWithNumbers": true,
   "eqNumInitial": 1,
   "hotkeys": {
    "equation": "Ctrl-E",
    "itemize": "Ctrl-I"
   },
   "labels_anchors": false,
   "latex_user_defs": false,
   "report_style_numbering": false,
   "user_envs_cfg": false
  },
  "toc": {
   "base_numbering": 1,
   "nav_menu": {},
   "number_sections": true,
   "sideBar": true,
   "skip_h1_title": false,
   "title_cell": "Table of Contents",
   "title_sidebar": "Contents",
   "toc_cell": false,
   "toc_position": {},
   "toc_section_display": true,
   "toc_window_display": false
  },
  "varInspector": {
   "cols": {
    "lenName": 16,
    "lenType": 16,
    "lenVar": 40
   },
   "kernels_config": {
    "python": {
     "delete_cmd_postfix": "",
     "delete_cmd_prefix": "del ",
     "library": "var_list.py",
     "varRefreshCmd": "print(var_dic_list())"
    },
    "r": {
     "delete_cmd_postfix": ") ",
     "delete_cmd_prefix": "rm(",
     "library": "var_list.r",
     "varRefreshCmd": "cat(var_dic_list()) "
    }
   },
   "types_to_exclude": [
    "module",
    "function",
    "builtin_function_or_method",
    "instance",
    "_Feature"
   ],
   "window_display": false
  }
 },
 "nbformat": 4,
 "nbformat_minor": 5
}
